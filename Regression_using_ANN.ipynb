{
  "nbformat": 4,
  "nbformat_minor": 0,
  "metadata": {
    "colab": {
      "name": "Regression using ANN.ipynb",
      "provenance": [],
      "authorship_tag": "ABX9TyOi/q74X9Kjcyx6zYjRZmrU",
      "include_colab_link": true
    },
    "kernelspec": {
      "name": "python3",
      "display_name": "Python 3"
    },
    "accelerator": "TPU"
  },
  "cells": [
    {
      "cell_type": "markdown",
      "metadata": {
        "id": "view-in-github",
        "colab_type": "text"
      },
      "source": [
        "<a href=\"https://colab.research.google.com/github/nitinpatil301a/Deep-learning-youtube/blob/master/Regression_using_ANN.ipynb\" target=\"_parent\"><img src=\"https://colab.research.google.com/assets/colab-badge.svg\" alt=\"Open In Colab\"/></a>"
      ]
    },
    {
      "cell_type": "code",
      "metadata": {
        "id": "9-1ZtRikEpZQ",
        "colab_type": "code",
        "outputId": "5413713e-a789-4284-e5fe-fc7013427f69",
        "colab": {
          "base_uri": "https://localhost:8080/",
          "height": 102
        }
      },
      "source": [
        "%tensorflow_version 2.0.0\n",
        "import tensorflow as tf\n",
        "from tensorflow import keras\n",
        "import pandas as pd\n",
        "import numpy as np\n",
        "import matplotlib.pyplot as plt\n",
        "%matplotlib inline"
      ],
      "execution_count": 0,
      "outputs": [
        {
          "output_type": "stream",
          "text": [
            "`%tensorflow_version` only switches the major version: 1.x or 2.x.\n",
            "You set: `2.0.0`. This will be interpreted as: `2.x`.\n",
            "\n",
            "\n",
            "TensorFlow 2.x selected.\n"
          ],
          "name": "stdout"
        }
      ]
    },
    {
      "cell_type": "code",
      "metadata": {
        "id": "uE2JDHEmFICi",
        "colab_type": "code",
        "colab": {}
      },
      "source": [
        "from sklearn.datasets import load_boston\n",
        "boston=load_boston()\n"
      ],
      "execution_count": 0,
      "outputs": []
    },
    {
      "cell_type": "code",
      "metadata": {
        "id": "iMEfKjkbFlVk",
        "colab_type": "code",
        "outputId": "367c8942-6c4a-42fb-f64e-5fbd180ef8c4",
        "colab": {
          "base_uri": "https://localhost:8080/",
          "height": 204
        }
      },
      "source": [
        "X=pd.DataFrame(boston.data,columns=boston.feature_names)\n",
        "X.head()"
      ],
      "execution_count": 0,
      "outputs": [
        {
          "output_type": "execute_result",
          "data": {
            "text/html": [
              "<div>\n",
              "<style scoped>\n",
              "    .dataframe tbody tr th:only-of-type {\n",
              "        vertical-align: middle;\n",
              "    }\n",
              "\n",
              "    .dataframe tbody tr th {\n",
              "        vertical-align: top;\n",
              "    }\n",
              "\n",
              "    .dataframe thead th {\n",
              "        text-align: right;\n",
              "    }\n",
              "</style>\n",
              "<table border=\"1\" class=\"dataframe\">\n",
              "  <thead>\n",
              "    <tr style=\"text-align: right;\">\n",
              "      <th></th>\n",
              "      <th>CRIM</th>\n",
              "      <th>ZN</th>\n",
              "      <th>INDUS</th>\n",
              "      <th>CHAS</th>\n",
              "      <th>NOX</th>\n",
              "      <th>RM</th>\n",
              "      <th>AGE</th>\n",
              "      <th>DIS</th>\n",
              "      <th>RAD</th>\n",
              "      <th>TAX</th>\n",
              "      <th>PTRATIO</th>\n",
              "      <th>B</th>\n",
              "      <th>LSTAT</th>\n",
              "    </tr>\n",
              "  </thead>\n",
              "  <tbody>\n",
              "    <tr>\n",
              "      <th>0</th>\n",
              "      <td>0.00632</td>\n",
              "      <td>18.0</td>\n",
              "      <td>2.31</td>\n",
              "      <td>0.0</td>\n",
              "      <td>0.538</td>\n",
              "      <td>6.575</td>\n",
              "      <td>65.2</td>\n",
              "      <td>4.0900</td>\n",
              "      <td>1.0</td>\n",
              "      <td>296.0</td>\n",
              "      <td>15.3</td>\n",
              "      <td>396.90</td>\n",
              "      <td>4.98</td>\n",
              "    </tr>\n",
              "    <tr>\n",
              "      <th>1</th>\n",
              "      <td>0.02731</td>\n",
              "      <td>0.0</td>\n",
              "      <td>7.07</td>\n",
              "      <td>0.0</td>\n",
              "      <td>0.469</td>\n",
              "      <td>6.421</td>\n",
              "      <td>78.9</td>\n",
              "      <td>4.9671</td>\n",
              "      <td>2.0</td>\n",
              "      <td>242.0</td>\n",
              "      <td>17.8</td>\n",
              "      <td>396.90</td>\n",
              "      <td>9.14</td>\n",
              "    </tr>\n",
              "    <tr>\n",
              "      <th>2</th>\n",
              "      <td>0.02729</td>\n",
              "      <td>0.0</td>\n",
              "      <td>7.07</td>\n",
              "      <td>0.0</td>\n",
              "      <td>0.469</td>\n",
              "      <td>7.185</td>\n",
              "      <td>61.1</td>\n",
              "      <td>4.9671</td>\n",
              "      <td>2.0</td>\n",
              "      <td>242.0</td>\n",
              "      <td>17.8</td>\n",
              "      <td>392.83</td>\n",
              "      <td>4.03</td>\n",
              "    </tr>\n",
              "    <tr>\n",
              "      <th>3</th>\n",
              "      <td>0.03237</td>\n",
              "      <td>0.0</td>\n",
              "      <td>2.18</td>\n",
              "      <td>0.0</td>\n",
              "      <td>0.458</td>\n",
              "      <td>6.998</td>\n",
              "      <td>45.8</td>\n",
              "      <td>6.0622</td>\n",
              "      <td>3.0</td>\n",
              "      <td>222.0</td>\n",
              "      <td>18.7</td>\n",
              "      <td>394.63</td>\n",
              "      <td>2.94</td>\n",
              "    </tr>\n",
              "    <tr>\n",
              "      <th>4</th>\n",
              "      <td>0.06905</td>\n",
              "      <td>0.0</td>\n",
              "      <td>2.18</td>\n",
              "      <td>0.0</td>\n",
              "      <td>0.458</td>\n",
              "      <td>7.147</td>\n",
              "      <td>54.2</td>\n",
              "      <td>6.0622</td>\n",
              "      <td>3.0</td>\n",
              "      <td>222.0</td>\n",
              "      <td>18.7</td>\n",
              "      <td>396.90</td>\n",
              "      <td>5.33</td>\n",
              "    </tr>\n",
              "  </tbody>\n",
              "</table>\n",
              "</div>"
            ],
            "text/plain": [
              "      CRIM    ZN  INDUS  CHAS    NOX  ...  RAD    TAX  PTRATIO       B  LSTAT\n",
              "0  0.00632  18.0   2.31   0.0  0.538  ...  1.0  296.0     15.3  396.90   4.98\n",
              "1  0.02731   0.0   7.07   0.0  0.469  ...  2.0  242.0     17.8  396.90   9.14\n",
              "2  0.02729   0.0   7.07   0.0  0.469  ...  2.0  242.0     17.8  392.83   4.03\n",
              "3  0.03237   0.0   2.18   0.0  0.458  ...  3.0  222.0     18.7  394.63   2.94\n",
              "4  0.06905   0.0   2.18   0.0  0.458  ...  3.0  222.0     18.7  396.90   5.33\n",
              "\n",
              "[5 rows x 13 columns]"
            ]
          },
          "metadata": {
            "tags": []
          },
          "execution_count": 3
        }
      ]
    },
    {
      "cell_type": "code",
      "metadata": {
        "id": "IMX6_aYtFzke",
        "colab_type": "code",
        "outputId": "2cf04700-c965-426e-d01d-51601124205b",
        "colab": {
          "base_uri": "https://localhost:8080/",
          "height": 204
        }
      },
      "source": [
        "y=pd.DataFrame(boston.target,columns=['target'])\n",
        "y.head()"
      ],
      "execution_count": 0,
      "outputs": [
        {
          "output_type": "execute_result",
          "data": {
            "text/html": [
              "<div>\n",
              "<style scoped>\n",
              "    .dataframe tbody tr th:only-of-type {\n",
              "        vertical-align: middle;\n",
              "    }\n",
              "\n",
              "    .dataframe tbody tr th {\n",
              "        vertical-align: top;\n",
              "    }\n",
              "\n",
              "    .dataframe thead th {\n",
              "        text-align: right;\n",
              "    }\n",
              "</style>\n",
              "<table border=\"1\" class=\"dataframe\">\n",
              "  <thead>\n",
              "    <tr style=\"text-align: right;\">\n",
              "      <th></th>\n",
              "      <th>target</th>\n",
              "    </tr>\n",
              "  </thead>\n",
              "  <tbody>\n",
              "    <tr>\n",
              "      <th>0</th>\n",
              "      <td>24.0</td>\n",
              "    </tr>\n",
              "    <tr>\n",
              "      <th>1</th>\n",
              "      <td>21.6</td>\n",
              "    </tr>\n",
              "    <tr>\n",
              "      <th>2</th>\n",
              "      <td>34.7</td>\n",
              "    </tr>\n",
              "    <tr>\n",
              "      <th>3</th>\n",
              "      <td>33.4</td>\n",
              "    </tr>\n",
              "    <tr>\n",
              "      <th>4</th>\n",
              "      <td>36.2</td>\n",
              "    </tr>\n",
              "  </tbody>\n",
              "</table>\n",
              "</div>"
            ],
            "text/plain": [
              "   target\n",
              "0    24.0\n",
              "1    21.6\n",
              "2    34.7\n",
              "3    33.4\n",
              "4    36.2"
            ]
          },
          "metadata": {
            "tags": []
          },
          "execution_count": 5
        }
      ]
    },
    {
      "cell_type": "code",
      "metadata": {
        "id": "K67WbYf2F_aw",
        "colab_type": "code",
        "outputId": "7cbaa759-89f5-4224-875e-c12255e03e8f",
        "colab": {
          "base_uri": "https://localhost:8080/",
          "height": 204
        }
      },
      "source": [
        "from sklearn.preprocessing import StandardScaler\n",
        "sc=StandardScaler()\n",
        "\n",
        "X=pd.DataFrame(sc.fit_transform(X),columns=X.columns)\n",
        "X.head()"
      ],
      "execution_count": 0,
      "outputs": [
        {
          "output_type": "execute_result",
          "data": {
            "text/html": [
              "<div>\n",
              "<style scoped>\n",
              "    .dataframe tbody tr th:only-of-type {\n",
              "        vertical-align: middle;\n",
              "    }\n",
              "\n",
              "    .dataframe tbody tr th {\n",
              "        vertical-align: top;\n",
              "    }\n",
              "\n",
              "    .dataframe thead th {\n",
              "        text-align: right;\n",
              "    }\n",
              "</style>\n",
              "<table border=\"1\" class=\"dataframe\">\n",
              "  <thead>\n",
              "    <tr style=\"text-align: right;\">\n",
              "      <th></th>\n",
              "      <th>CRIM</th>\n",
              "      <th>ZN</th>\n",
              "      <th>INDUS</th>\n",
              "      <th>CHAS</th>\n",
              "      <th>NOX</th>\n",
              "      <th>RM</th>\n",
              "      <th>AGE</th>\n",
              "      <th>DIS</th>\n",
              "      <th>RAD</th>\n",
              "      <th>TAX</th>\n",
              "      <th>PTRATIO</th>\n",
              "      <th>B</th>\n",
              "      <th>LSTAT</th>\n",
              "    </tr>\n",
              "  </thead>\n",
              "  <tbody>\n",
              "    <tr>\n",
              "      <th>0</th>\n",
              "      <td>-0.419782</td>\n",
              "      <td>0.284830</td>\n",
              "      <td>-1.287909</td>\n",
              "      <td>-0.272599</td>\n",
              "      <td>-0.144217</td>\n",
              "      <td>0.413672</td>\n",
              "      <td>-0.120013</td>\n",
              "      <td>0.140214</td>\n",
              "      <td>-0.982843</td>\n",
              "      <td>-0.666608</td>\n",
              "      <td>-1.459000</td>\n",
              "      <td>0.441052</td>\n",
              "      <td>-1.075562</td>\n",
              "    </tr>\n",
              "    <tr>\n",
              "      <th>1</th>\n",
              "      <td>-0.417339</td>\n",
              "      <td>-0.487722</td>\n",
              "      <td>-0.593381</td>\n",
              "      <td>-0.272599</td>\n",
              "      <td>-0.740262</td>\n",
              "      <td>0.194274</td>\n",
              "      <td>0.367166</td>\n",
              "      <td>0.557160</td>\n",
              "      <td>-0.867883</td>\n",
              "      <td>-0.987329</td>\n",
              "      <td>-0.303094</td>\n",
              "      <td>0.441052</td>\n",
              "      <td>-0.492439</td>\n",
              "    </tr>\n",
              "    <tr>\n",
              "      <th>2</th>\n",
              "      <td>-0.417342</td>\n",
              "      <td>-0.487722</td>\n",
              "      <td>-0.593381</td>\n",
              "      <td>-0.272599</td>\n",
              "      <td>-0.740262</td>\n",
              "      <td>1.282714</td>\n",
              "      <td>-0.265812</td>\n",
              "      <td>0.557160</td>\n",
              "      <td>-0.867883</td>\n",
              "      <td>-0.987329</td>\n",
              "      <td>-0.303094</td>\n",
              "      <td>0.396427</td>\n",
              "      <td>-1.208727</td>\n",
              "    </tr>\n",
              "    <tr>\n",
              "      <th>3</th>\n",
              "      <td>-0.416750</td>\n",
              "      <td>-0.487722</td>\n",
              "      <td>-1.306878</td>\n",
              "      <td>-0.272599</td>\n",
              "      <td>-0.835284</td>\n",
              "      <td>1.016303</td>\n",
              "      <td>-0.809889</td>\n",
              "      <td>1.077737</td>\n",
              "      <td>-0.752922</td>\n",
              "      <td>-1.106115</td>\n",
              "      <td>0.113032</td>\n",
              "      <td>0.416163</td>\n",
              "      <td>-1.361517</td>\n",
              "    </tr>\n",
              "    <tr>\n",
              "      <th>4</th>\n",
              "      <td>-0.412482</td>\n",
              "      <td>-0.487722</td>\n",
              "      <td>-1.306878</td>\n",
              "      <td>-0.272599</td>\n",
              "      <td>-0.835284</td>\n",
              "      <td>1.228577</td>\n",
              "      <td>-0.511180</td>\n",
              "      <td>1.077737</td>\n",
              "      <td>-0.752922</td>\n",
              "      <td>-1.106115</td>\n",
              "      <td>0.113032</td>\n",
              "      <td>0.441052</td>\n",
              "      <td>-1.026501</td>\n",
              "    </tr>\n",
              "  </tbody>\n",
              "</table>\n",
              "</div>"
            ],
            "text/plain": [
              "       CRIM        ZN     INDUS  ...   PTRATIO         B     LSTAT\n",
              "0 -0.419782  0.284830 -1.287909  ... -1.459000  0.441052 -1.075562\n",
              "1 -0.417339 -0.487722 -0.593381  ... -0.303094  0.441052 -0.492439\n",
              "2 -0.417342 -0.487722 -0.593381  ... -0.303094  0.396427 -1.208727\n",
              "3 -0.416750 -0.487722 -1.306878  ...  0.113032  0.416163 -1.361517\n",
              "4 -0.412482 -0.487722 -1.306878  ...  0.113032  0.441052 -1.026501\n",
              "\n",
              "[5 rows x 13 columns]"
            ]
          },
          "metadata": {
            "tags": []
          },
          "execution_count": 6
        }
      ]
    },
    {
      "cell_type": "code",
      "metadata": {
        "id": "VT4iEI-4GqFe",
        "colab_type": "code",
        "outputId": "ce69bb5d-fe31-462a-8293-3324408ee8da",
        "colab": {
          "base_uri": "https://localhost:8080/",
          "height": 34
        }
      },
      "source": [
        "from sklearn.model_selection import train_test_split\n",
        "x_train,x_test,y_train,y_test=train_test_split(X.values,y.values,test_size=0.2)\n",
        "x_train.shape,y_train.shape,x_test.shape,y_test.shape"
      ],
      "execution_count": 0,
      "outputs": [
        {
          "output_type": "execute_result",
          "data": {
            "text/plain": [
              "((404, 13), (404, 1), (102, 13), (102, 1))"
            ]
          },
          "metadata": {
            "tags": []
          },
          "execution_count": 8
        }
      ]
    },
    {
      "cell_type": "code",
      "metadata": {
        "id": "CU0QRU5tG8dG",
        "colab_type": "code",
        "colab": {}
      },
      "source": [
        "from tensorflow.keras import Sequential\n",
        "from tensorflow.keras.layers import Dense,Dropout,BatchNormalization"
      ],
      "execution_count": 0,
      "outputs": []
    },
    {
      "cell_type": "code",
      "metadata": {
        "id": "EJNq2aGtHOLZ",
        "colab_type": "code",
        "colab": {}
      },
      "source": [
        "model=Sequential()\n",
        "model.add(Dense(128,activation='relu',kernel_initializer='uniform'))\n",
        "model.add(Dropout(0.2))\n",
        "model.add(Dense(28,activation='relu',kernel_initializer='uniform'))\n",
        "model.add(Dropout(0.2))\n",
        "model.add(Dense(10,activation='relu',kernel_initializer='uniform'))\n",
        "model.add(Dropout(0.2))\n",
        "model.add(Dense(1,activation='linear',kernel_initializer='uniform'))"
      ],
      "execution_count": 0,
      "outputs": []
    },
    {
      "cell_type": "code",
      "metadata": {
        "id": "m5tVyg54IcKb",
        "colab_type": "code",
        "colab": {}
      },
      "source": [
        "model.compile(optimizer='adam',loss='mse',metrics=['mse'])"
      ],
      "execution_count": 0,
      "outputs": []
    },
    {
      "cell_type": "code",
      "metadata": {
        "id": "Yv3MibYSIuy0",
        "colab_type": "code",
        "outputId": "98ef3052-d53f-4a50-eb5a-b700fbcb45d7",
        "colab": {
          "base_uri": "https://localhost:8080/",
          "height": 1000
        }
      },
      "source": [
        "history=model.fit(x_train,y_train,epochs=100,validation_split=0.2,batch_size=10)"
      ],
      "execution_count": 0,
      "outputs": [
        {
          "output_type": "stream",
          "text": [
            "Epoch 1/100\n",
            "WARNING:tensorflow:Layer dense is casting an input tensor from dtype float64 to the layer's dtype of float32, which is new behavior in TensorFlow 2.  The layer has dtype float32 because it's dtype defaults to floatx.\n",
            "\n",
            "If you intended to run this layer in float32, you can safely ignore this warning. If in doubt, this warning is likely only an issue if you are porting a TensorFlow 1.X model to TensorFlow 2.\n",
            "\n",
            "To change all layers to have dtype float64 by default, call `tf.keras.backend.set_floatx('float64')`. To change just this layer, pass dtype='float64' to the layer constructor. If you are the author of this layer, you can disable autocasting by passing autocast=False to the base Layer constructor.\n",
            "\n",
            "33/33 [==============================] - 0s 8ms/step - loss: 585.7471 - mse: 585.7471 - val_loss: 676.5968 - val_mse: 676.5968\n",
            "Epoch 2/100\n",
            "33/33 [==============================] - 0s 2ms/step - loss: 570.8610 - mse: 570.8610 - val_loss: 631.7268 - val_mse: 631.7268\n",
            "Epoch 3/100\n",
            "33/33 [==============================] - 0s 3ms/step - loss: 442.1330 - mse: 442.1330 - val_loss: 357.2338 - val_mse: 357.2338\n",
            "Epoch 4/100\n",
            "33/33 [==============================] - 0s 2ms/step - loss: 183.5493 - mse: 183.5493 - val_loss: 116.4810 - val_mse: 116.4811\n",
            "Epoch 5/100\n",
            "33/33 [==============================] - 0s 3ms/step - loss: 112.2302 - mse: 112.2302 - val_loss: 95.2222 - val_mse: 95.2222\n",
            "Epoch 6/100\n",
            "33/33 [==============================] - 0s 2ms/step - loss: 86.3998 - mse: 86.3998 - val_loss: 78.2090 - val_mse: 78.2090\n",
            "Epoch 7/100\n",
            "33/33 [==============================] - 0s 2ms/step - loss: 84.3479 - mse: 84.3479 - val_loss: 57.6769 - val_mse: 57.6769\n",
            "Epoch 8/100\n",
            "33/33 [==============================] - 0s 3ms/step - loss: 77.3093 - mse: 77.3093 - val_loss: 51.9103 - val_mse: 51.9103\n",
            "Epoch 9/100\n",
            "33/33 [==============================] - 0s 3ms/step - loss: 77.8274 - mse: 77.8274 - val_loss: 51.5858 - val_mse: 51.5858\n",
            "Epoch 10/100\n",
            "33/33 [==============================] - 0s 3ms/step - loss: 69.9146 - mse: 69.9146 - val_loss: 48.8486 - val_mse: 48.8486\n",
            "Epoch 11/100\n",
            "33/33 [==============================] - 0s 2ms/step - loss: 58.2857 - mse: 58.2857 - val_loss: 44.0076 - val_mse: 44.0076\n",
            "Epoch 12/100\n",
            "33/33 [==============================] - 0s 3ms/step - loss: 59.2187 - mse: 59.2187 - val_loss: 40.4053 - val_mse: 40.4053\n",
            "Epoch 13/100\n",
            "33/33 [==============================] - 0s 3ms/step - loss: 54.9917 - mse: 54.9917 - val_loss: 39.2702 - val_mse: 39.2702\n",
            "Epoch 14/100\n",
            "33/33 [==============================] - 0s 3ms/step - loss: 61.6802 - mse: 61.6802 - val_loss: 38.8233 - val_mse: 38.8233\n",
            "Epoch 15/100\n",
            "33/33 [==============================] - 0s 2ms/step - loss: 58.0753 - mse: 58.0753 - val_loss: 36.6001 - val_mse: 36.6001\n",
            "Epoch 16/100\n",
            "33/33 [==============================] - 0s 2ms/step - loss: 49.8937 - mse: 49.8937 - val_loss: 35.0321 - val_mse: 35.0321\n",
            "Epoch 17/100\n",
            "33/33 [==============================] - 0s 3ms/step - loss: 57.2951 - mse: 57.2951 - val_loss: 32.3714 - val_mse: 32.3714\n",
            "Epoch 18/100\n",
            "33/33 [==============================] - 0s 3ms/step - loss: 57.3090 - mse: 57.3090 - val_loss: 33.6862 - val_mse: 33.6862\n",
            "Epoch 19/100\n",
            "33/33 [==============================] - 0s 2ms/step - loss: 53.9357 - mse: 53.9357 - val_loss: 33.9102 - val_mse: 33.9102\n",
            "Epoch 20/100\n",
            "33/33 [==============================] - 0s 2ms/step - loss: 54.1359 - mse: 54.1359 - val_loss: 33.8500 - val_mse: 33.8500\n",
            "Epoch 21/100\n",
            "33/33 [==============================] - 0s 3ms/step - loss: 52.1206 - mse: 52.1206 - val_loss: 31.1127 - val_mse: 31.1127\n",
            "Epoch 22/100\n",
            "33/33 [==============================] - 0s 2ms/step - loss: 48.7864 - mse: 48.7864 - val_loss: 29.0460 - val_mse: 29.0460\n",
            "Epoch 23/100\n",
            "33/33 [==============================] - 0s 2ms/step - loss: 50.7339 - mse: 50.7339 - val_loss: 28.6195 - val_mse: 28.6195\n",
            "Epoch 24/100\n",
            "33/33 [==============================] - 0s 3ms/step - loss: 41.2382 - mse: 41.2382 - val_loss: 30.4925 - val_mse: 30.4925\n",
            "Epoch 25/100\n",
            "33/33 [==============================] - 0s 2ms/step - loss: 57.5784 - mse: 57.5784 - val_loss: 29.1292 - val_mse: 29.1292\n",
            "Epoch 26/100\n",
            "33/33 [==============================] - 0s 3ms/step - loss: 51.1738 - mse: 51.1738 - val_loss: 30.4537 - val_mse: 30.4537\n",
            "Epoch 27/100\n",
            "33/33 [==============================] - 0s 3ms/step - loss: 56.1744 - mse: 56.1744 - val_loss: 32.1601 - val_mse: 32.1601\n",
            "Epoch 28/100\n",
            "33/33 [==============================] - 0s 2ms/step - loss: 49.6571 - mse: 49.6571 - val_loss: 26.6714 - val_mse: 26.6714\n",
            "Epoch 29/100\n",
            "33/33 [==============================] - 0s 2ms/step - loss: 53.5648 - mse: 53.5648 - val_loss: 25.8783 - val_mse: 25.8783\n",
            "Epoch 30/100\n",
            "33/33 [==============================] - 0s 3ms/step - loss: 47.5171 - mse: 47.5171 - val_loss: 26.9880 - val_mse: 26.9880\n",
            "Epoch 31/100\n",
            "33/33 [==============================] - 0s 2ms/step - loss: 46.0021 - mse: 46.0021 - val_loss: 26.6663 - val_mse: 26.6663\n",
            "Epoch 32/100\n",
            "33/33 [==============================] - 0s 3ms/step - loss: 39.9353 - mse: 39.9353 - val_loss: 28.1379 - val_mse: 28.1379\n",
            "Epoch 33/100\n",
            "33/33 [==============================] - 0s 2ms/step - loss: 45.4840 - mse: 45.4840 - val_loss: 23.6165 - val_mse: 23.6165\n",
            "Epoch 34/100\n",
            "33/33 [==============================] - 0s 3ms/step - loss: 49.4077 - mse: 49.4077 - val_loss: 24.5849 - val_mse: 24.5849\n",
            "Epoch 35/100\n",
            "33/33 [==============================] - 0s 3ms/step - loss: 44.4484 - mse: 44.4484 - val_loss: 26.1954 - val_mse: 26.1954\n",
            "Epoch 36/100\n",
            "33/33 [==============================] - 0s 3ms/step - loss: 43.4050 - mse: 43.4050 - val_loss: 23.6955 - val_mse: 23.6955\n",
            "Epoch 37/100\n",
            "33/33 [==============================] - 0s 2ms/step - loss: 54.4501 - mse: 54.4501 - val_loss: 21.7956 - val_mse: 21.7956\n",
            "Epoch 38/100\n",
            "33/33 [==============================] - 0s 2ms/step - loss: 47.3981 - mse: 47.3981 - val_loss: 22.0851 - val_mse: 22.0851\n",
            "Epoch 39/100\n",
            "33/33 [==============================] - 0s 2ms/step - loss: 43.4002 - mse: 43.4002 - val_loss: 22.2163 - val_mse: 22.2163\n",
            "Epoch 40/100\n",
            "33/33 [==============================] - 0s 2ms/step - loss: 45.0252 - mse: 45.0252 - val_loss: 23.6740 - val_mse: 23.6740\n",
            "Epoch 41/100\n",
            "33/33 [==============================] - 0s 2ms/step - loss: 48.9815 - mse: 48.9815 - val_loss: 25.6484 - val_mse: 25.6484\n",
            "Epoch 42/100\n",
            "33/33 [==============================] - 0s 2ms/step - loss: 39.1527 - mse: 39.1527 - val_loss: 26.7721 - val_mse: 26.7721\n",
            "Epoch 43/100\n",
            "33/33 [==============================] - 0s 2ms/step - loss: 46.6923 - mse: 46.6923 - val_loss: 22.1669 - val_mse: 22.1669\n",
            "Epoch 44/100\n",
            "33/33 [==============================] - 0s 3ms/step - loss: 51.9418 - mse: 51.9418 - val_loss: 22.1184 - val_mse: 22.1184\n",
            "Epoch 45/100\n",
            "33/33 [==============================] - 0s 3ms/step - loss: 48.4553 - mse: 48.4553 - val_loss: 19.2752 - val_mse: 19.2752\n",
            "Epoch 46/100\n",
            "33/33 [==============================] - 0s 2ms/step - loss: 50.6345 - mse: 50.6345 - val_loss: 20.3316 - val_mse: 20.3316\n",
            "Epoch 47/100\n",
            "33/33 [==============================] - 0s 2ms/step - loss: 45.2226 - mse: 45.2226 - val_loss: 19.5733 - val_mse: 19.5733\n",
            "Epoch 48/100\n",
            "33/33 [==============================] - 0s 2ms/step - loss: 44.9392 - mse: 44.9392 - val_loss: 22.5109 - val_mse: 22.5109\n",
            "Epoch 49/100\n",
            "33/33 [==============================] - 0s 3ms/step - loss: 57.0594 - mse: 57.0594 - val_loss: 23.7747 - val_mse: 23.7747\n",
            "Epoch 50/100\n",
            "33/33 [==============================] - 0s 2ms/step - loss: 49.7548 - mse: 49.7548 - val_loss: 20.8835 - val_mse: 20.8835\n",
            "Epoch 51/100\n",
            "33/33 [==============================] - 0s 3ms/step - loss: 48.6898 - mse: 48.6898 - val_loss: 18.7260 - val_mse: 18.7260\n",
            "Epoch 52/100\n",
            "33/33 [==============================] - 0s 2ms/step - loss: 41.6382 - mse: 41.6382 - val_loss: 16.4273 - val_mse: 16.4273\n",
            "Epoch 53/100\n",
            "33/33 [==============================] - 0s 2ms/step - loss: 44.3812 - mse: 44.3812 - val_loss: 16.4691 - val_mse: 16.4691\n",
            "Epoch 54/100\n",
            "33/33 [==============================] - 0s 2ms/step - loss: 42.4424 - mse: 42.4424 - val_loss: 19.3982 - val_mse: 19.3982\n",
            "Epoch 55/100\n",
            "33/33 [==============================] - 0s 3ms/step - loss: 46.5943 - mse: 46.5943 - val_loss: 17.3321 - val_mse: 17.3321\n",
            "Epoch 56/100\n",
            "33/33 [==============================] - 0s 3ms/step - loss: 42.3193 - mse: 42.3193 - val_loss: 25.8310 - val_mse: 25.8310\n",
            "Epoch 57/100\n",
            "33/33 [==============================] - 0s 2ms/step - loss: 50.8849 - mse: 50.8849 - val_loss: 18.1614 - val_mse: 18.1614\n",
            "Epoch 58/100\n",
            "33/33 [==============================] - 0s 3ms/step - loss: 43.1660 - mse: 43.1660 - val_loss: 19.5996 - val_mse: 19.5996\n",
            "Epoch 59/100\n",
            "33/33 [==============================] - 0s 3ms/step - loss: 45.5914 - mse: 45.5914 - val_loss: 17.5154 - val_mse: 17.5154\n",
            "Epoch 60/100\n",
            "33/33 [==============================] - 0s 2ms/step - loss: 43.6317 - mse: 43.6317 - val_loss: 15.7434 - val_mse: 15.7434\n",
            "Epoch 61/100\n",
            "33/33 [==============================] - 0s 2ms/step - loss: 42.0778 - mse: 42.0778 - val_loss: 17.6337 - val_mse: 17.6337\n",
            "Epoch 62/100\n",
            "33/33 [==============================] - 0s 3ms/step - loss: 41.9417 - mse: 41.9417 - val_loss: 15.6631 - val_mse: 15.6631\n",
            "Epoch 63/100\n",
            "33/33 [==============================] - 0s 3ms/step - loss: 37.8710 - mse: 37.8710 - val_loss: 18.9121 - val_mse: 18.9121\n",
            "Epoch 64/100\n",
            "33/33 [==============================] - 0s 3ms/step - loss: 43.4325 - mse: 43.4325 - val_loss: 17.2059 - val_mse: 17.2059\n",
            "Epoch 65/100\n",
            "33/33 [==============================] - 0s 2ms/step - loss: 40.3473 - mse: 40.3473 - val_loss: 19.4333 - val_mse: 19.4333\n",
            "Epoch 66/100\n",
            "33/33 [==============================] - 0s 3ms/step - loss: 47.6274 - mse: 47.6274 - val_loss: 25.5127 - val_mse: 25.5127\n",
            "Epoch 67/100\n",
            "33/33 [==============================] - 0s 3ms/step - loss: 39.2339 - mse: 39.2339 - val_loss: 17.3985 - val_mse: 17.3985\n",
            "Epoch 68/100\n",
            "33/33 [==============================] - 0s 2ms/step - loss: 45.7499 - mse: 45.7499 - val_loss: 19.2561 - val_mse: 19.2561\n",
            "Epoch 69/100\n",
            "33/33 [==============================] - 0s 2ms/step - loss: 40.7327 - mse: 40.7327 - val_loss: 17.6398 - val_mse: 17.6398\n",
            "Epoch 70/100\n",
            "33/33 [==============================] - 0s 3ms/step - loss: 46.8751 - mse: 46.8751 - val_loss: 21.8241 - val_mse: 21.8241\n",
            "Epoch 71/100\n",
            "33/33 [==============================] - 0s 3ms/step - loss: 46.6325 - mse: 46.6325 - val_loss: 20.0908 - val_mse: 20.0908\n",
            "Epoch 72/100\n",
            "33/33 [==============================] - 0s 2ms/step - loss: 49.6098 - mse: 49.6098 - val_loss: 15.7189 - val_mse: 15.7189\n",
            "Epoch 73/100\n",
            "33/33 [==============================] - 0s 2ms/step - loss: 40.0728 - mse: 40.0728 - val_loss: 15.3668 - val_mse: 15.3668\n",
            "Epoch 74/100\n",
            "33/33 [==============================] - 0s 3ms/step - loss: 40.5196 - mse: 40.5196 - val_loss: 16.3194 - val_mse: 16.3194\n",
            "Epoch 75/100\n",
            "33/33 [==============================] - 0s 3ms/step - loss: 46.5023 - mse: 46.5023 - val_loss: 15.1732 - val_mse: 15.1732\n",
            "Epoch 76/100\n",
            "33/33 [==============================] - 0s 2ms/step - loss: 36.0619 - mse: 36.0619 - val_loss: 20.4051 - val_mse: 20.4051\n",
            "Epoch 77/100\n",
            "33/33 [==============================] - 0s 3ms/step - loss: 43.1429 - mse: 43.1429 - val_loss: 15.1012 - val_mse: 15.1012\n",
            "Epoch 78/100\n",
            "33/33 [==============================] - 0s 3ms/step - loss: 43.1770 - mse: 43.1770 - val_loss: 18.1384 - val_mse: 18.1384\n",
            "Epoch 79/100\n",
            "33/33 [==============================] - 0s 2ms/step - loss: 49.3262 - mse: 49.3262 - val_loss: 15.7494 - val_mse: 15.7494\n",
            "Epoch 80/100\n",
            "33/33 [==============================] - 0s 3ms/step - loss: 38.5313 - mse: 38.5313 - val_loss: 15.1754 - val_mse: 15.1754\n",
            "Epoch 81/100\n",
            "33/33 [==============================] - 0s 3ms/step - loss: 43.5678 - mse: 43.5678 - val_loss: 16.1922 - val_mse: 16.1922\n",
            "Epoch 82/100\n",
            "33/33 [==============================] - 0s 3ms/step - loss: 43.6277 - mse: 43.6277 - val_loss: 13.9536 - val_mse: 13.9536\n",
            "Epoch 83/100\n",
            "33/33 [==============================] - 0s 3ms/step - loss: 43.9001 - mse: 43.9001 - val_loss: 22.7307 - val_mse: 22.7307\n",
            "Epoch 84/100\n",
            "33/33 [==============================] - 0s 3ms/step - loss: 41.9389 - mse: 41.9389 - val_loss: 15.1851 - val_mse: 15.1851\n",
            "Epoch 85/100\n",
            "33/33 [==============================] - 0s 2ms/step - loss: 42.8359 - mse: 42.8359 - val_loss: 14.7075 - val_mse: 14.7075\n",
            "Epoch 86/100\n",
            "33/33 [==============================] - 0s 2ms/step - loss: 46.9517 - mse: 46.9517 - val_loss: 15.5947 - val_mse: 15.5947\n",
            "Epoch 87/100\n",
            "33/33 [==============================] - 0s 2ms/step - loss: 38.8117 - mse: 38.8117 - val_loss: 17.0435 - val_mse: 17.0435\n",
            "Epoch 88/100\n",
            "33/33 [==============================] - 0s 3ms/step - loss: 48.1507 - mse: 48.1507 - val_loss: 16.4125 - val_mse: 16.4125\n",
            "Epoch 89/100\n",
            "33/33 [==============================] - 0s 3ms/step - loss: 44.8117 - mse: 44.8117 - val_loss: 18.0037 - val_mse: 18.0037\n",
            "Epoch 90/100\n",
            "33/33 [==============================] - 0s 2ms/step - loss: 39.5921 - mse: 39.5921 - val_loss: 18.7516 - val_mse: 18.7516\n",
            "Epoch 91/100\n",
            "33/33 [==============================] - 0s 3ms/step - loss: 40.4890 - mse: 40.4890 - val_loss: 18.1871 - val_mse: 18.1871\n",
            "Epoch 92/100\n",
            "33/33 [==============================] - 0s 3ms/step - loss: 45.8025 - mse: 45.8025 - val_loss: 16.2963 - val_mse: 16.2963\n",
            "Epoch 93/100\n",
            "33/33 [==============================] - 0s 2ms/step - loss: 38.8795 - mse: 38.8795 - val_loss: 14.3388 - val_mse: 14.3388\n",
            "Epoch 94/100\n",
            "33/33 [==============================] - 0s 3ms/step - loss: 43.6762 - mse: 43.6762 - val_loss: 15.9753 - val_mse: 15.9753\n",
            "Epoch 95/100\n",
            "33/33 [==============================] - 0s 3ms/step - loss: 35.5009 - mse: 35.5009 - val_loss: 15.2374 - val_mse: 15.2374\n",
            "Epoch 96/100\n",
            "33/33 [==============================] - 0s 2ms/step - loss: 36.8048 - mse: 36.8048 - val_loss: 15.9077 - val_mse: 15.9077\n",
            "Epoch 97/100\n",
            "33/33 [==============================] - 0s 2ms/step - loss: 41.1780 - mse: 41.1780 - val_loss: 15.6953 - val_mse: 15.6953\n",
            "Epoch 98/100\n",
            "33/33 [==============================] - 0s 3ms/step - loss: 41.4417 - mse: 41.4417 - val_loss: 17.4697 - val_mse: 17.4697\n",
            "Epoch 99/100\n",
            "33/33 [==============================] - 0s 3ms/step - loss: 41.5233 - mse: 41.5233 - val_loss: 16.3704 - val_mse: 16.3704\n",
            "Epoch 100/100\n",
            "33/33 [==============================] - 0s 2ms/step - loss: 36.6674 - mse: 36.6674 - val_loss: 19.3221 - val_mse: 19.3221\n"
          ],
          "name": "stdout"
        }
      ]
    },
    {
      "cell_type": "code",
      "metadata": {
        "id": "QyCHp0eDJJB1",
        "colab_type": "code",
        "outputId": "4466b7eb-28be-4bbb-eb16-e03d8699422b",
        "colab": {
          "base_uri": "https://localhost:8080/",
          "height": 573
        }
      },
      "source": [
        "plt.plot(history.history['mse'], label='Training mse')\n",
        "plt.plot(history.history['val_mse'], label='Validation mse')\n",
        "plt.title('Validation mse')\n",
        "plt.ylabel('MSE')\n",
        "plt.xlabel('Epoch')\n",
        "plt.legend(loc=\"upper left\")\n",
        "plt.show()\n",
        "\n",
        "plt.plot(history.history['loss'], label='Training loss')\n",
        "plt.plot(history.history['val_loss'], label='Validation loss')\n",
        "plt.title('validation loss values')\n",
        "plt.ylabel('Loss value')\n",
        "plt.xlabel('Epoch')\n",
        "plt.legend(loc=\"upper left\")\n",
        "plt.show()"
      ],
      "execution_count": 0,
      "outputs": [
        {
          "output_type": "display_data",
          "data": {
            "image/png": "[encoded data removed]",
            "text/plain": [
              "<Figure size 432x288 with 1 Axes>"
            ]
          },
          "metadata": {
            "tags": [],
            "needs_background": "light"
          }
        },
        {
          "output_type": "display_data",
          "data": {
            "image/png": "[encoded data removed]",
            "text/plain": [
              "<Figure size 432x288 with 1 Axes>"
            ]
          },
          "metadata": {
            "tags": [],
            "needs_background": "light"
          }
        }
      ]
    },
    {
      "cell_type": "code",
      "metadata": {
        "id": "Sqgbb5DeJp-s",
        "colab_type": "code",
        "outputId": "0a669147-a079-4240-c583-5d94988bf716",
        "colab": {
          "base_uri": "https://localhost:8080/",
          "height": 1000
        }
      },
      "source": [
        "y_pred=model.predict(x_test)\n",
        "y_pred"
      ],
      "execution_count": 0,
      "outputs": [
        {
          "output_type": "execute_result",
          "data": {
            "text/plain": [
              "array([[21.225466 ],\n",
              "       [20.49743  ],\n",
              "       [23.989542 ],\n",
              "       [21.182608 ],\n",
              "       [36.94086  ],\n",
              "       [12.4192   ],\n",
              "       [22.52743  ],\n",
              "       [31.437431 ],\n",
              "       [20.668257 ],\n",
              "       [20.112984 ],\n",
              "       [14.181163 ],\n",
              "       [21.632206 ],\n",
              "       [30.767595 ],\n",
              "       [16.090302 ],\n",
              "       [18.509745 ],\n",
              "       [18.355875 ],\n",
              "       [16.509119 ],\n",
              "       [19.225107 ],\n",
              "       [16.238377 ],\n",
              "       [ 7.935035 ],\n",
              "       [16.589695 ],\n",
              "       [22.767508 ],\n",
              "       [17.024033 ],\n",
              "       [23.360184 ],\n",
              "       [12.459712 ],\n",
              "       [17.196825 ],\n",
              "       [18.999842 ],\n",
              "       [31.779884 ],\n",
              "       [31.940802 ],\n",
              "       [13.333133 ],\n",
              "       [23.168116 ],\n",
              "       [13.600472 ],\n",
              "       [28.819502 ],\n",
              "       [24.685392 ],\n",
              "       [30.412453 ],\n",
              "       [18.808706 ],\n",
              "       [17.378778 ],\n",
              "       [16.019547 ],\n",
              "       [13.279007 ],\n",
              "       [11.911057 ],\n",
              "       [12.804347 ],\n",
              "       [13.350579 ],\n",
              "       [20.133417 ],\n",
              "       [35.45928  ],\n",
              "       [18.329493 ],\n",
              "       [20.71076  ],\n",
              "       [19.965038 ],\n",
              "       [21.575104 ],\n",
              "       [18.02728  ],\n",
              "       [13.324094 ],\n",
              "       [16.439125 ],\n",
              "       [15.949435 ],\n",
              "       [26.7017   ],\n",
              "       [21.33524  ],\n",
              "       [10.628573 ],\n",
              "       [24.718866 ],\n",
              "       [36.26772  ],\n",
              "       [20.26379  ],\n",
              "       [29.947361 ],\n",
              "       [27.195324 ],\n",
              "       [22.93606  ],\n",
              "       [22.01118  ],\n",
              "       [30.95384  ],\n",
              "       [20.306587 ],\n",
              "       [23.783655 ],\n",
              "       [32.175774 ],\n",
              "       [14.015084 ],\n",
              "       [16.589226 ],\n",
              "       [23.192259 ],\n",
              "       [19.150324 ],\n",
              "       [19.368444 ],\n",
              "       [18.11207  ],\n",
              "       [ 9.748305 ],\n",
              "       [20.91028  ],\n",
              "       [14.901615 ],\n",
              "       [15.377822 ],\n",
              "       [15.862759 ],\n",
              "       [23.179787 ],\n",
              "       [17.35752  ],\n",
              "       [24.689615 ],\n",
              "       [15.803332 ],\n",
              "       [18.096376 ],\n",
              "       [14.81069  ],\n",
              "       [21.04547  ],\n",
              "       [ 5.8985295],\n",
              "       [22.76319  ],\n",
              "       [ 8.910487 ],\n",
              "       [ 8.07877  ],\n",
              "       [26.15064  ],\n",
              "       [12.892262 ],\n",
              "       [43.456146 ],\n",
              "       [18.861076 ],\n",
              "       [16.13544  ],\n",
              "       [17.417974 ],\n",
              "       [14.506196 ],\n",
              "       [15.374247 ],\n",
              "       [17.943243 ],\n",
              "       [33.16695  ],\n",
              "       [19.642647 ],\n",
              "       [17.316736 ],\n",
              "       [16.563856 ],\n",
              "       [31.164625 ]], dtype=float32)"
            ]
          },
          "metadata": {
            "tags": []
          },
          "execution_count": 14
        }
      ]
    },
    {
      "cell_type": "code",
      "metadata": {
        "id": "_D0hnlf9KBD-",
        "colab_type": "code",
        "outputId": "01648651-4ab4-414c-b49d-e44aba2ab3b8",
        "colab": {
          "base_uri": "https://localhost:8080/",
          "height": 34
        }
      },
      "source": [
        "score=model.evaluate(x_test,y_test)"
      ],
      "execution_count": 0,
      "outputs": [
        {
          "output_type": "stream",
          "text": [
            "4/4 [==============================] - 0s 3ms/step - loss: 13.9595 - mse: 13.9595\n"
          ],
          "name": "stdout"
        }
      ]
    },
    {
      "cell_type": "code",
      "metadata": {
        "id": "8a2yCUpHKM7n",
        "colab_type": "code",
        "outputId": "2cdaa9b5-38e3-493d-c3d3-d8bc2c561ccd",
        "colab": {
          "base_uri": "https://localhost:8080/",
          "height": 34
        }
      },
      "source": [
        "score"
      ],
      "execution_count": 0,
      "outputs": [
        {
          "output_type": "execute_result",
          "data": {
            "text/plain": [
              "[13.959490776062012, 13.959490776062012]"
            ]
          },
          "metadata": {
            "tags": []
          },
          "execution_count": 16
        }
      ]
    },
    {
      "cell_type": "code",
      "metadata": {
        "id": "3rGw71PgKOVA",
        "colab_type": "code",
        "colab": {}
      },
      "source": [
        ""
      ],
      "execution_count": 0,
      "outputs": []
    }
  ]
}