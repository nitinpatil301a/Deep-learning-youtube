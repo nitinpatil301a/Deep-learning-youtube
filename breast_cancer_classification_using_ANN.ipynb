{
  "nbformat": 4,
  "nbformat_minor": 0,
  "metadata": {
    "colab": {
      "name": "breast cancer classification  using ANN.ipynb",
      "provenance": [],
      "authorship_tag": "ABX9TyOans+MfeG0AA9fSq1toidr",
      "include_colab_link": true
    },
    "kernelspec": {
      "name": "python3",
      "display_name": "Python 3"
    }
  },
  "cells": [
    {
      "cell_type": "markdown",
      "metadata": {
        "id": "view-in-github",
        "colab_type": "text"
      },
      "source": [
        "<a href=\"https://colab.research.google.com/github/nitinpatil301a/Deep-learning-youtube/blob/master/breast_cancer_classification_using_ANN.ipynb\" target=\"_parent\"><img src=\"https://colab.research.google.com/assets/colab-badge.svg\" alt=\"Open In Colab\"/></a>"
      ]
    },
    {
      "cell_type": "code",
      "metadata": {
        "id": "w5HvVQ_oIfFR",
        "colab_type": "code",
        "colab": {
          "base_uri": "https://localhost:8080/",
          "height": 102
        },
        "outputId": "8be89af6-ff76-46e9-ab7a-a16a51e8df60"
      },
      "source": [
        "%tensorflow_version 2.0.0\n",
        "import tensorflow as tf\n",
        "import numpy as np\n",
        "import pandas as pd\n",
        "from tensorflow import keras\n",
        "import matplotlib.pyplot as plt\n",
        "%matplotlib inline"
      ],
      "execution_count": 1,
      "outputs": [
        {
          "output_type": "stream",
          "text": [
            "`%tensorflow_version` only switches the major version: 1.x or 2.x.\n",
            "You set: `2.0.0`. This will be interpreted as: `2.x`.\n",
            "\n",
            "\n",
            "TensorFlow is already loaded. Please restart the runtime to change versions.\n"
          ],
          "name": "stdout"
        }
      ]
    },
    {
      "cell_type": "code",
      "metadata": {
        "id": "dW5wy-TtJFaq",
        "colab_type": "code",
        "colab": {}
      },
      "source": [
        "from sklearn.datasets import load_breast_cancer\n",
        "cancer=load_breast_cancer()"
      ],
      "execution_count": 0,
      "outputs": []
    },
    {
      "cell_type": "code",
      "metadata": {
        "id": "2fme7S0RJPpK",
        "colab_type": "code",
        "colab": {
          "base_uri": "https://localhost:8080/",
          "height": 258
        },
        "outputId": "8985e250-19d4-45d9-934e-63a793075971"
      },
      "source": [
        "X=pd.DataFrame(cancer.data,columns=cancer.feature_names)\n",
        "X.head()"
      ],
      "execution_count": 3,
      "outputs": [
        {
          "output_type": "execute_result",
          "data": {
            "text/html": [
              "<div>\n",
              "<style scoped>\n",
              "    .dataframe tbody tr th:only-of-type {\n",
              "        vertical-align: middle;\n",
              "    }\n",
              "\n",
              "    .dataframe tbody tr th {\n",
              "        vertical-align: top;\n",
              "    }\n",
              "\n",
              "    .dataframe thead th {\n",
              "        text-align: right;\n",
              "    }\n",
              "</style>\n",
              "<table border=\"1\" class=\"dataframe\">\n",
              "  <thead>\n",
              "    <tr style=\"text-align: right;\">\n",
              "      <th></th>\n",
              "      <th>mean radius</th>\n",
              "      <th>mean texture</th>\n",
              "      <th>mean perimeter</th>\n",
              "      <th>mean area</th>\n",
              "      <th>mean smoothness</th>\n",
              "      <th>mean compactness</th>\n",
              "      <th>mean concavity</th>\n",
              "      <th>mean concave points</th>\n",
              "      <th>mean symmetry</th>\n",
              "      <th>mean fractal dimension</th>\n",
              "      <th>radius error</th>\n",
              "      <th>texture error</th>\n",
              "      <th>perimeter error</th>\n",
              "      <th>area error</th>\n",
              "      <th>smoothness error</th>\n",
              "      <th>compactness error</th>\n",
              "      <th>concavity error</th>\n",
              "      <th>concave points error</th>\n",
              "      <th>symmetry error</th>\n",
              "      <th>fractal dimension error</th>\n",
              "      <th>worst radius</th>\n",
              "      <th>worst texture</th>\n",
              "      <th>worst perimeter</th>\n",
              "      <th>worst area</th>\n",
              "      <th>worst smoothness</th>\n",
              "      <th>worst compactness</th>\n",
              "      <th>worst concavity</th>\n",
              "      <th>worst concave points</th>\n",
              "      <th>worst symmetry</th>\n",
              "      <th>worst fractal dimension</th>\n",
              "    </tr>\n",
              "  </thead>\n",
              "  <tbody>\n",
              "    <tr>\n",
              "      <th>0</th>\n",
              "      <td>17.99</td>\n",
              "      <td>10.38</td>\n",
              "      <td>122.80</td>\n",
              "      <td>1001.0</td>\n",
              "      <td>0.11840</td>\n",
              "      <td>0.27760</td>\n",
              "      <td>0.3001</td>\n",
              "      <td>0.14710</td>\n",
              "      <td>0.2419</td>\n",
              "      <td>0.07871</td>\n",
              "      <td>1.0950</td>\n",
              "      <td>0.9053</td>\n",
              "      <td>8.589</td>\n",
              "      <td>153.40</td>\n",
              "      <td>0.006399</td>\n",
              "      <td>0.04904</td>\n",
              "      <td>0.05373</td>\n",
              "      <td>0.01587</td>\n",
              "      <td>0.03003</td>\n",
              "      <td>0.006193</td>\n",
              "      <td>25.38</td>\n",
              "      <td>17.33</td>\n",
              "      <td>184.60</td>\n",
              "      <td>2019.0</td>\n",
              "      <td>0.1622</td>\n",
              "      <td>0.6656</td>\n",
              "      <td>0.7119</td>\n",
              "      <td>0.2654</td>\n",
              "      <td>0.4601</td>\n",
              "      <td>0.11890</td>\n",
              "    </tr>\n",
              "    <tr>\n",
              "      <th>1</th>\n",
              "      <td>20.57</td>\n",
              "      <td>17.77</td>\n",
              "      <td>132.90</td>\n",
              "      <td>1326.0</td>\n",
              "      <td>0.08474</td>\n",
              "      <td>0.07864</td>\n",
              "      <td>0.0869</td>\n",
              "      <td>0.07017</td>\n",
              "      <td>0.1812</td>\n",
              "      <td>0.05667</td>\n",
              "      <td>0.5435</td>\n",
              "      <td>0.7339</td>\n",
              "      <td>3.398</td>\n",
              "      <td>74.08</td>\n",
              "      <td>0.005225</td>\n",
              "      <td>0.01308</td>\n",
              "      <td>0.01860</td>\n",
              "      <td>0.01340</td>\n",
              "      <td>0.01389</td>\n",
              "      <td>0.003532</td>\n",
              "      <td>24.99</td>\n",
              "      <td>23.41</td>\n",
              "      <td>158.80</td>\n",
              "      <td>1956.0</td>\n",
              "      <td>0.1238</td>\n",
              "      <td>0.1866</td>\n",
              "      <td>0.2416</td>\n",
              "      <td>0.1860</td>\n",
              "      <td>0.2750</td>\n",
              "      <td>0.08902</td>\n",
              "    </tr>\n",
              "    <tr>\n",
              "      <th>2</th>\n",
              "      <td>19.69</td>\n",
              "      <td>21.25</td>\n",
              "      <td>130.00</td>\n",
              "      <td>1203.0</td>\n",
              "      <td>0.10960</td>\n",
              "      <td>0.15990</td>\n",
              "      <td>0.1974</td>\n",
              "      <td>0.12790</td>\n",
              "      <td>0.2069</td>\n",
              "      <td>0.05999</td>\n",
              "      <td>0.7456</td>\n",
              "      <td>0.7869</td>\n",
              "      <td>4.585</td>\n",
              "      <td>94.03</td>\n",
              "      <td>0.006150</td>\n",
              "      <td>0.04006</td>\n",
              "      <td>0.03832</td>\n",
              "      <td>0.02058</td>\n",
              "      <td>0.02250</td>\n",
              "      <td>0.004571</td>\n",
              "      <td>23.57</td>\n",
              "      <td>25.53</td>\n",
              "      <td>152.50</td>\n",
              "      <td>1709.0</td>\n",
              "      <td>0.1444</td>\n",
              "      <td>0.4245</td>\n",
              "      <td>0.4504</td>\n",
              "      <td>0.2430</td>\n",
              "      <td>0.3613</td>\n",
              "      <td>0.08758</td>\n",
              "    </tr>\n",
              "    <tr>\n",
              "      <th>3</th>\n",
              "      <td>11.42</td>\n",
              "      <td>20.38</td>\n",
              "      <td>77.58</td>\n",
              "      <td>386.1</td>\n",
              "      <td>0.14250</td>\n",
              "      <td>0.28390</td>\n",
              "      <td>0.2414</td>\n",
              "      <td>0.10520</td>\n",
              "      <td>0.2597</td>\n",
              "      <td>0.09744</td>\n",
              "      <td>0.4956</td>\n",
              "      <td>1.1560</td>\n",
              "      <td>3.445</td>\n",
              "      <td>27.23</td>\n",
              "      <td>0.009110</td>\n",
              "      <td>0.07458</td>\n",
              "      <td>0.05661</td>\n",
              "      <td>0.01867</td>\n",
              "      <td>0.05963</td>\n",
              "      <td>0.009208</td>\n",
              "      <td>14.91</td>\n",
              "      <td>26.50</td>\n",
              "      <td>98.87</td>\n",
              "      <td>567.7</td>\n",
              "      <td>0.2098</td>\n",
              "      <td>0.8663</td>\n",
              "      <td>0.6869</td>\n",
              "      <td>0.2575</td>\n",
              "      <td>0.6638</td>\n",
              "      <td>0.17300</td>\n",
              "    </tr>\n",
              "    <tr>\n",
              "      <th>4</th>\n",
              "      <td>20.29</td>\n",
              "      <td>14.34</td>\n",
              "      <td>135.10</td>\n",
              "      <td>1297.0</td>\n",
              "      <td>0.10030</td>\n",
              "      <td>0.13280</td>\n",
              "      <td>0.1980</td>\n",
              "      <td>0.10430</td>\n",
              "      <td>0.1809</td>\n",
              "      <td>0.05883</td>\n",
              "      <td>0.7572</td>\n",
              "      <td>0.7813</td>\n",
              "      <td>5.438</td>\n",
              "      <td>94.44</td>\n",
              "      <td>0.011490</td>\n",
              "      <td>0.02461</td>\n",
              "      <td>0.05688</td>\n",
              "      <td>0.01885</td>\n",
              "      <td>0.01756</td>\n",
              "      <td>0.005115</td>\n",
              "      <td>22.54</td>\n",
              "      <td>16.67</td>\n",
              "      <td>152.20</td>\n",
              "      <td>1575.0</td>\n",
              "      <td>0.1374</td>\n",
              "      <td>0.2050</td>\n",
              "      <td>0.4000</td>\n",
              "      <td>0.1625</td>\n",
              "      <td>0.2364</td>\n",
              "      <td>0.07678</td>\n",
              "    </tr>\n",
              "  </tbody>\n",
              "</table>\n",
              "</div>"
            ],
            "text/plain": [
              "   mean radius  mean texture  ...  worst symmetry  worst fractal dimension\n",
              "0        17.99         10.38  ...          0.4601                  0.11890\n",
              "1        20.57         17.77  ...          0.2750                  0.08902\n",
              "2        19.69         21.25  ...          0.3613                  0.08758\n",
              "3        11.42         20.38  ...          0.6638                  0.17300\n",
              "4        20.29         14.34  ...          0.2364                  0.07678\n",
              "\n",
              "[5 rows x 30 columns]"
            ]
          },
          "metadata": {
            "tags": []
          },
          "execution_count": 3
        }
      ]
    },
    {
      "cell_type": "code",
      "metadata": {
        "id": "FLZdJ93uJYAK",
        "colab_type": "code",
        "colab": {
          "base_uri": "https://localhost:8080/",
          "height": 34
        },
        "outputId": "3298856d-35ed-4470-9267-b3e09fcc1fac"
      },
      "source": [
        "y=pd.DataFrame(cancer.target,columns=['target'])\n",
        "y['target'].unique()"
      ],
      "execution_count": 4,
      "outputs": [
        {
          "output_type": "execute_result",
          "data": {
            "text/plain": [
              "array([0, 1])"
            ]
          },
          "metadata": {
            "tags": []
          },
          "execution_count": 4
        }
      ]
    },
    {
      "cell_type": "code",
      "metadata": {
        "id": "wHHtT2yzJh9c",
        "colab_type": "code",
        "colab": {}
      },
      "source": [
        "from sklearn.preprocessing import StandardScaler\n",
        "sc=StandardScaler()\n",
        "\n",
        "X=pd.DataFrame(sc.fit_transform(X),columns=X.columns)\n",
        "\n"
      ],
      "execution_count": 0,
      "outputs": []
    },
    {
      "cell_type": "code",
      "metadata": {
        "id": "wzy28hHeJ0Jc",
        "colab_type": "code",
        "colab": {
          "base_uri": "https://localhost:8080/",
          "height": 258
        },
        "outputId": "f688dad4-afed-472f-e25d-2eda29bec935"
      },
      "source": [
        "X.head()"
      ],
      "execution_count": 6,
      "outputs": [
        {
          "output_type": "execute_result",
          "data": {
            "text/html": [
              "<div>\n",
              "<style scoped>\n",
              "    .dataframe tbody tr th:only-of-type {\n",
              "        vertical-align: middle;\n",
              "    }\n",
              "\n",
              "    .dataframe tbody tr th {\n",
              "        vertical-align: top;\n",
              "    }\n",
              "\n",
              "    .dataframe thead th {\n",
              "        text-align: right;\n",
              "    }\n",
              "</style>\n",
              "<table border=\"1\" class=\"dataframe\">\n",
              "  <thead>\n",
              "    <tr style=\"text-align: right;\">\n",
              "      <th></th>\n",
              "      <th>mean radius</th>\n",
              "      <th>mean texture</th>\n",
              "      <th>mean perimeter</th>\n",
              "      <th>mean area</th>\n",
              "      <th>mean smoothness</th>\n",
              "      <th>mean compactness</th>\n",
              "      <th>mean concavity</th>\n",
              "      <th>mean concave points</th>\n",
              "      <th>mean symmetry</th>\n",
              "      <th>mean fractal dimension</th>\n",
              "      <th>radius error</th>\n",
              "      <th>texture error</th>\n",
              "      <th>perimeter error</th>\n",
              "      <th>area error</th>\n",
              "      <th>smoothness error</th>\n",
              "      <th>compactness error</th>\n",
              "      <th>concavity error</th>\n",
              "      <th>concave points error</th>\n",
              "      <th>symmetry error</th>\n",
              "      <th>fractal dimension error</th>\n",
              "      <th>worst radius</th>\n",
              "      <th>worst texture</th>\n",
              "      <th>worst perimeter</th>\n",
              "      <th>worst area</th>\n",
              "      <th>worst smoothness</th>\n",
              "      <th>worst compactness</th>\n",
              "      <th>worst concavity</th>\n",
              "      <th>worst concave points</th>\n",
              "      <th>worst symmetry</th>\n",
              "      <th>worst fractal dimension</th>\n",
              "    </tr>\n",
              "  </thead>\n",
              "  <tbody>\n",
              "    <tr>\n",
              "      <th>0</th>\n",
              "      <td>1.097064</td>\n",
              "      <td>-2.073335</td>\n",
              "      <td>1.269934</td>\n",
              "      <td>0.984375</td>\n",
              "      <td>1.568466</td>\n",
              "      <td>3.283515</td>\n",
              "      <td>2.652874</td>\n",
              "      <td>2.532475</td>\n",
              "      <td>2.217515</td>\n",
              "      <td>2.255747</td>\n",
              "      <td>2.489734</td>\n",
              "      <td>-0.565265</td>\n",
              "      <td>2.833031</td>\n",
              "      <td>2.487578</td>\n",
              "      <td>-0.214002</td>\n",
              "      <td>1.316862</td>\n",
              "      <td>0.724026</td>\n",
              "      <td>0.660820</td>\n",
              "      <td>1.148757</td>\n",
              "      <td>0.907083</td>\n",
              "      <td>1.886690</td>\n",
              "      <td>-1.359293</td>\n",
              "      <td>2.303601</td>\n",
              "      <td>2.001237</td>\n",
              "      <td>1.307686</td>\n",
              "      <td>2.616665</td>\n",
              "      <td>2.109526</td>\n",
              "      <td>2.296076</td>\n",
              "      <td>2.750622</td>\n",
              "      <td>1.937015</td>\n",
              "    </tr>\n",
              "    <tr>\n",
              "      <th>1</th>\n",
              "      <td>1.829821</td>\n",
              "      <td>-0.353632</td>\n",
              "      <td>1.685955</td>\n",
              "      <td>1.908708</td>\n",
              "      <td>-0.826962</td>\n",
              "      <td>-0.487072</td>\n",
              "      <td>-0.023846</td>\n",
              "      <td>0.548144</td>\n",
              "      <td>0.001392</td>\n",
              "      <td>-0.868652</td>\n",
              "      <td>0.499255</td>\n",
              "      <td>-0.876244</td>\n",
              "      <td>0.263327</td>\n",
              "      <td>0.742402</td>\n",
              "      <td>-0.605351</td>\n",
              "      <td>-0.692926</td>\n",
              "      <td>-0.440780</td>\n",
              "      <td>0.260162</td>\n",
              "      <td>-0.805450</td>\n",
              "      <td>-0.099444</td>\n",
              "      <td>1.805927</td>\n",
              "      <td>-0.369203</td>\n",
              "      <td>1.535126</td>\n",
              "      <td>1.890489</td>\n",
              "      <td>-0.375612</td>\n",
              "      <td>-0.430444</td>\n",
              "      <td>-0.146749</td>\n",
              "      <td>1.087084</td>\n",
              "      <td>-0.243890</td>\n",
              "      <td>0.281190</td>\n",
              "    </tr>\n",
              "    <tr>\n",
              "      <th>2</th>\n",
              "      <td>1.579888</td>\n",
              "      <td>0.456187</td>\n",
              "      <td>1.566503</td>\n",
              "      <td>1.558884</td>\n",
              "      <td>0.942210</td>\n",
              "      <td>1.052926</td>\n",
              "      <td>1.363478</td>\n",
              "      <td>2.037231</td>\n",
              "      <td>0.939685</td>\n",
              "      <td>-0.398008</td>\n",
              "      <td>1.228676</td>\n",
              "      <td>-0.780083</td>\n",
              "      <td>0.850928</td>\n",
              "      <td>1.181336</td>\n",
              "      <td>-0.297005</td>\n",
              "      <td>0.814974</td>\n",
              "      <td>0.213076</td>\n",
              "      <td>1.424827</td>\n",
              "      <td>0.237036</td>\n",
              "      <td>0.293559</td>\n",
              "      <td>1.511870</td>\n",
              "      <td>-0.023974</td>\n",
              "      <td>1.347475</td>\n",
              "      <td>1.456285</td>\n",
              "      <td>0.527407</td>\n",
              "      <td>1.082932</td>\n",
              "      <td>0.854974</td>\n",
              "      <td>1.955000</td>\n",
              "      <td>1.152255</td>\n",
              "      <td>0.201391</td>\n",
              "    </tr>\n",
              "    <tr>\n",
              "      <th>3</th>\n",
              "      <td>-0.768909</td>\n",
              "      <td>0.253732</td>\n",
              "      <td>-0.592687</td>\n",
              "      <td>-0.764464</td>\n",
              "      <td>3.283553</td>\n",
              "      <td>3.402909</td>\n",
              "      <td>1.915897</td>\n",
              "      <td>1.451707</td>\n",
              "      <td>2.867383</td>\n",
              "      <td>4.910919</td>\n",
              "      <td>0.326373</td>\n",
              "      <td>-0.110409</td>\n",
              "      <td>0.286593</td>\n",
              "      <td>-0.288378</td>\n",
              "      <td>0.689702</td>\n",
              "      <td>2.744280</td>\n",
              "      <td>0.819518</td>\n",
              "      <td>1.115007</td>\n",
              "      <td>4.732680</td>\n",
              "      <td>2.047511</td>\n",
              "      <td>-0.281464</td>\n",
              "      <td>0.133984</td>\n",
              "      <td>-0.249939</td>\n",
              "      <td>-0.550021</td>\n",
              "      <td>3.394275</td>\n",
              "      <td>3.893397</td>\n",
              "      <td>1.989588</td>\n",
              "      <td>2.175786</td>\n",
              "      <td>6.046041</td>\n",
              "      <td>4.935010</td>\n",
              "    </tr>\n",
              "    <tr>\n",
              "      <th>4</th>\n",
              "      <td>1.750297</td>\n",
              "      <td>-1.151816</td>\n",
              "      <td>1.776573</td>\n",
              "      <td>1.826229</td>\n",
              "      <td>0.280372</td>\n",
              "      <td>0.539340</td>\n",
              "      <td>1.371011</td>\n",
              "      <td>1.428493</td>\n",
              "      <td>-0.009560</td>\n",
              "      <td>-0.562450</td>\n",
              "      <td>1.270543</td>\n",
              "      <td>-0.790244</td>\n",
              "      <td>1.273189</td>\n",
              "      <td>1.190357</td>\n",
              "      <td>1.483067</td>\n",
              "      <td>-0.048520</td>\n",
              "      <td>0.828471</td>\n",
              "      <td>1.144205</td>\n",
              "      <td>-0.361092</td>\n",
              "      <td>0.499328</td>\n",
              "      <td>1.298575</td>\n",
              "      <td>-1.466770</td>\n",
              "      <td>1.338539</td>\n",
              "      <td>1.220724</td>\n",
              "      <td>0.220556</td>\n",
              "      <td>-0.313395</td>\n",
              "      <td>0.613179</td>\n",
              "      <td>0.729259</td>\n",
              "      <td>-0.868353</td>\n",
              "      <td>-0.397100</td>\n",
              "    </tr>\n",
              "  </tbody>\n",
              "</table>\n",
              "</div>"
            ],
            "text/plain": [
              "   mean radius  mean texture  ...  worst symmetry  worst fractal dimension\n",
              "0     1.097064     -2.073335  ...        2.750622                 1.937015\n",
              "1     1.829821     -0.353632  ...       -0.243890                 0.281190\n",
              "2     1.579888      0.456187  ...        1.152255                 0.201391\n",
              "3    -0.768909      0.253732  ...        6.046041                 4.935010\n",
              "4     1.750297     -1.151816  ...       -0.868353                -0.397100\n",
              "\n",
              "[5 rows x 30 columns]"
            ]
          },
          "metadata": {
            "tags": []
          },
          "execution_count": 6
        }
      ]
    },
    {
      "cell_type": "code",
      "metadata": {
        "id": "1sW1MageJ1xz",
        "colab_type": "code",
        "colab": {
          "base_uri": "https://localhost:8080/",
          "height": 34
        },
        "outputId": "4212b407-1c07-4127-84a1-c9758ead3052"
      },
      "source": [
        "from sklearn.model_selection import train_test_split\n",
        "X_train,X_test,y_train,y_test=train_test_split(X,y,test_size=.20,stratify=y)\n",
        "X_train.shape,y_train.shape,X_test.shape,y_test.shape"
      ],
      "execution_count": 7,
      "outputs": [
        {
          "output_type": "execute_result",
          "data": {
            "text/plain": [
              "((455, 30), (455, 1), (114, 30), (114, 1))"
            ]
          },
          "metadata": {
            "tags": []
          },
          "execution_count": 7
        }
      ]
    },
    {
      "cell_type": "code",
      "metadata": {
        "id": "qgOqsJFMKDc2",
        "colab_type": "code",
        "colab": {}
      },
      "source": [
        "from tensorflow.keras.layers import Dense,Flatten,Dropout\n",
        "from tensorflow.keras import Sequential"
      ],
      "execution_count": 0,
      "outputs": []
    },
    {
      "cell_type": "code",
      "metadata": {
        "id": "VlktT4GIKKjc",
        "colab_type": "code",
        "colab": {}
      },
      "source": [
        "model=Sequential()\n",
        "model.add(Dense(50,activation='relu',input_shape=X_train.shape))\n",
        "model.add(Dropout(0.5))\n",
        "model.add(Dense(50,activation='relu'))\n",
        "model.add(Dropout(0.5))\n",
        "model.add(Dense(50,activation='relu'))\n",
        "model.add(Dropout(0.5))\n",
        "model.add(Dense(1,activation='sigmoid'))\n",
        "\n",
        "\n",
        "\n"
      ],
      "execution_count": 0,
      "outputs": []
    },
    {
      "cell_type": "code",
      "metadata": {
        "id": "TJb-pktPKuCD",
        "colab_type": "code",
        "colab": {}
      },
      "source": [
        "model.compile(optimizer='adam',loss='binary_crossentropy',metrics=['accuracy'])"
      ],
      "execution_count": 0,
      "outputs": []
    },
    {
      "cell_type": "code",
      "metadata": {
        "id": "6M4AWMmgK5tK",
        "colab_type": "code",
        "colab": {
          "base_uri": "https://localhost:8080/",
          "height": 391
        },
        "outputId": "45e0bf53-dd11-4d15-8d6f-d2999047cec8"
      },
      "source": [
        "model.summary()"
      ],
      "execution_count": 11,
      "outputs": [
        {
          "output_type": "stream",
          "text": [
            "Model: \"sequential\"\n",
            "_________________________________________________________________\n",
            "Layer (type)                 Output Shape              Param #   \n",
            "=================================================================\n",
            "dense (Dense)                (None, 455, 50)           1550      \n",
            "_________________________________________________________________\n",
            "dropout (Dropout)            (None, 455, 50)           0         \n",
            "_________________________________________________________________\n",
            "dense_1 (Dense)              (None, 455, 50)           2550      \n",
            "_________________________________________________________________\n",
            "dropout_1 (Dropout)          (None, 455, 50)           0         \n",
            "_________________________________________________________________\n",
            "dense_2 (Dense)              (None, 455, 50)           2550      \n",
            "_________________________________________________________________\n",
            "dropout_2 (Dropout)          (None, 455, 50)           0         \n",
            "_________________________________________________________________\n",
            "dense_3 (Dense)              (None, 455, 1)            51        \n",
            "=================================================================\n",
            "Total params: 6,701\n",
            "Trainable params: 6,701\n",
            "Non-trainable params: 0\n",
            "_________________________________________________________________\n"
          ],
          "name": "stdout"
        }
      ]
    },
    {
      "cell_type": "code",
      "metadata": {
        "id": "16gImvUBK8a3",
        "colab_type": "code",
        "colab": {
          "base_uri": "https://localhost:8080/",
          "height": 1000
        },
        "outputId": "1f345251-adf8-4700-8314-634912b3c5b6"
      },
      "source": [
        "history=model.fit(X_train,y_train,batch_size=10,epochs=50,validation_split=0.1)"
      ],
      "execution_count": 12,
      "outputs": [
        {
          "output_type": "stream",
          "text": [
            "Epoch 1/50\n",
            "WARNING:tensorflow:Model was constructed with shape (None, 455, 30) for input Tensor(\"dense_input:0\", shape=(None, 455, 30), dtype=float32), but it was called on an input with incompatible shape (None, 30).\n",
            "WARNING:tensorflow:Model was constructed with shape (None, 455, 30) for input Tensor(\"dense_input:0\", shape=(None, 455, 30), dtype=float32), but it was called on an input with incompatible shape (None, 30).\n",
            "31/41 [=====================>........] - ETA: 0s - loss: 0.7022 - accuracy: 0.5839WARNING:tensorflow:Model was constructed with shape (None, 455, 30) for input Tensor(\"dense_input:0\", shape=(None, 455, 30), dtype=float32), but it was called on an input with incompatible shape (None, 30).\n",
            "41/41 [==============================] - 0s 7ms/step - loss: 0.6724 - accuracy: 0.6235 - val_loss: 0.4379 - val_accuracy: 0.8696\n",
            "Epoch 2/50\n",
            "41/41 [==============================] - 0s 2ms/step - loss: 0.4723 - accuracy: 0.7971 - val_loss: 0.2797 - val_accuracy: 0.8913\n",
            "Epoch 3/50\n",
            "41/41 [==============================] - 0s 2ms/step - loss: 0.3862 - accuracy: 0.8337 - val_loss: 0.2019 - val_accuracy: 0.9130\n",
            "Epoch 4/50\n",
            "41/41 [==============================] - 0s 2ms/step - loss: 0.2570 - accuracy: 0.9291 - val_loss: 0.1624 - val_accuracy: 0.9130\n",
            "Epoch 5/50\n",
            "41/41 [==============================] - 0s 2ms/step - loss: 0.2405 - accuracy: 0.9193 - val_loss: 0.1458 - val_accuracy: 0.9348\n",
            "Epoch 6/50\n",
            "41/41 [==============================] - 0s 2ms/step - loss: 0.1810 - accuracy: 0.9560 - val_loss: 0.1148 - val_accuracy: 0.9565\n",
            "Epoch 7/50\n",
            "41/41 [==============================] - 0s 2ms/step - loss: 0.1623 - accuracy: 0.9487 - val_loss: 0.0886 - val_accuracy: 0.9565\n",
            "Epoch 8/50\n",
            "41/41 [==============================] - 0s 3ms/step - loss: 0.1425 - accuracy: 0.9487 - val_loss: 0.0891 - val_accuracy: 0.9565\n",
            "Epoch 9/50\n",
            "41/41 [==============================] - 0s 2ms/step - loss: 0.1529 - accuracy: 0.9487 - val_loss: 0.0741 - val_accuracy: 0.9565\n",
            "Epoch 10/50\n",
            "41/41 [==============================] - 0s 2ms/step - loss: 0.1448 - accuracy: 0.9633 - val_loss: 0.0611 - val_accuracy: 0.9783\n",
            "Epoch 11/50\n",
            "41/41 [==============================] - 0s 2ms/step - loss: 0.1188 - accuracy: 0.9707 - val_loss: 0.0615 - val_accuracy: 0.9783\n",
            "Epoch 12/50\n",
            "41/41 [==============================] - 0s 2ms/step - loss: 0.1255 - accuracy: 0.9682 - val_loss: 0.0506 - val_accuracy: 0.9783\n",
            "Epoch 13/50\n",
            "41/41 [==============================] - 0s 2ms/step - loss: 0.1063 - accuracy: 0.9633 - val_loss: 0.0396 - val_accuracy: 0.9783\n",
            "Epoch 14/50\n",
            "41/41 [==============================] - 0s 2ms/step - loss: 0.1148 - accuracy: 0.9658 - val_loss: 0.0371 - val_accuracy: 1.0000\n",
            "Epoch 15/50\n",
            "41/41 [==============================] - 0s 2ms/step - loss: 0.0879 - accuracy: 0.9731 - val_loss: 0.0339 - val_accuracy: 1.0000\n",
            "Epoch 16/50\n",
            "41/41 [==============================] - 0s 2ms/step - loss: 0.1029 - accuracy: 0.9682 - val_loss: 0.0341 - val_accuracy: 1.0000\n",
            "Epoch 17/50\n",
            "41/41 [==============================] - 0s 3ms/step - loss: 0.1059 - accuracy: 0.9633 - val_loss: 0.0299 - val_accuracy: 1.0000\n",
            "Epoch 18/50\n",
            "41/41 [==============================] - 0s 2ms/step - loss: 0.1044 - accuracy: 0.9731 - val_loss: 0.0263 - val_accuracy: 1.0000\n",
            "Epoch 19/50\n",
            "41/41 [==============================] - 0s 2ms/step - loss: 0.0916 - accuracy: 0.9707 - val_loss: 0.0266 - val_accuracy: 1.0000\n",
            "Epoch 20/50\n",
            "41/41 [==============================] - 0s 3ms/step - loss: 0.0922 - accuracy: 0.9682 - val_loss: 0.0210 - val_accuracy: 1.0000\n",
            "Epoch 21/50\n",
            "41/41 [==============================] - 0s 2ms/step - loss: 0.0899 - accuracy: 0.9780 - val_loss: 0.0245 - val_accuracy: 1.0000\n",
            "Epoch 22/50\n",
            "41/41 [==============================] - 0s 3ms/step - loss: 0.0807 - accuracy: 0.9780 - val_loss: 0.0190 - val_accuracy: 1.0000\n",
            "Epoch 23/50\n",
            "41/41 [==============================] - 0s 3ms/step - loss: 0.0720 - accuracy: 0.9804 - val_loss: 0.0160 - val_accuracy: 1.0000\n",
            "Epoch 24/50\n",
            "41/41 [==============================] - 0s 3ms/step - loss: 0.0815 - accuracy: 0.9707 - val_loss: 0.0184 - val_accuracy: 1.0000\n",
            "Epoch 25/50\n",
            "41/41 [==============================] - 0s 2ms/step - loss: 0.0811 - accuracy: 0.9756 - val_loss: 0.0167 - val_accuracy: 1.0000\n",
            "Epoch 26/50\n",
            "41/41 [==============================] - 0s 2ms/step - loss: 0.0632 - accuracy: 0.9756 - val_loss: 0.0167 - val_accuracy: 1.0000\n",
            "Epoch 27/50\n",
            "41/41 [==============================] - 0s 2ms/step - loss: 0.0797 - accuracy: 0.9756 - val_loss: 0.0164 - val_accuracy: 1.0000\n",
            "Epoch 28/50\n",
            "41/41 [==============================] - 0s 2ms/step - loss: 0.0721 - accuracy: 0.9731 - val_loss: 0.0123 - val_accuracy: 1.0000\n",
            "Epoch 29/50\n",
            "41/41 [==============================] - 0s 2ms/step - loss: 0.0620 - accuracy: 0.9878 - val_loss: 0.0146 - val_accuracy: 1.0000\n",
            "Epoch 30/50\n",
            "41/41 [==============================] - 0s 2ms/step - loss: 0.0967 - accuracy: 0.9707 - val_loss: 0.0163 - val_accuracy: 1.0000\n",
            "Epoch 31/50\n",
            "41/41 [==============================] - 0s 3ms/step - loss: 0.0798 - accuracy: 0.9829 - val_loss: 0.0123 - val_accuracy: 1.0000\n",
            "Epoch 32/50\n",
            "41/41 [==============================] - 0s 3ms/step - loss: 0.0860 - accuracy: 0.9829 - val_loss: 0.0122 - val_accuracy: 1.0000\n",
            "Epoch 33/50\n",
            "41/41 [==============================] - 0s 3ms/step - loss: 0.0748 - accuracy: 0.9804 - val_loss: 0.0143 - val_accuracy: 1.0000\n",
            "Epoch 34/50\n",
            "41/41 [==============================] - 0s 2ms/step - loss: 0.0939 - accuracy: 0.9707 - val_loss: 0.0183 - val_accuracy: 1.0000\n",
            "Epoch 35/50\n",
            "41/41 [==============================] - 0s 2ms/step - loss: 0.0627 - accuracy: 0.9829 - val_loss: 0.0158 - val_accuracy: 1.0000\n",
            "Epoch 36/50\n",
            "41/41 [==============================] - 0s 2ms/step - loss: 0.0498 - accuracy: 0.9829 - val_loss: 0.0229 - val_accuracy: 0.9783\n",
            "Epoch 37/50\n",
            "41/41 [==============================] - 0s 2ms/step - loss: 0.0568 - accuracy: 0.9780 - val_loss: 0.0316 - val_accuracy: 0.9783\n",
            "Epoch 38/50\n",
            "41/41 [==============================] - 0s 2ms/step - loss: 0.0496 - accuracy: 0.9878 - val_loss: 0.0273 - val_accuracy: 0.9783\n",
            "Epoch 39/50\n",
            "41/41 [==============================] - 0s 3ms/step - loss: 0.0462 - accuracy: 0.9878 - val_loss: 0.0264 - val_accuracy: 0.9783\n",
            "Epoch 40/50\n",
            "41/41 [==============================] - 0s 2ms/step - loss: 0.0712 - accuracy: 0.9780 - val_loss: 0.0252 - val_accuracy: 0.9783\n",
            "Epoch 41/50\n",
            "41/41 [==============================] - 0s 2ms/step - loss: 0.0442 - accuracy: 0.9927 - val_loss: 0.0226 - val_accuracy: 0.9783\n",
            "Epoch 42/50\n",
            "41/41 [==============================] - 0s 2ms/step - loss: 0.0439 - accuracy: 0.9902 - val_loss: 0.0202 - val_accuracy: 0.9783\n",
            "Epoch 43/50\n",
            "41/41 [==============================] - 0s 2ms/step - loss: 0.0483 - accuracy: 0.9853 - val_loss: 0.0102 - val_accuracy: 1.0000\n",
            "Epoch 44/50\n",
            "41/41 [==============================] - 0s 2ms/step - loss: 0.0575 - accuracy: 0.9780 - val_loss: 0.0185 - val_accuracy: 1.0000\n",
            "Epoch 45/50\n",
            "41/41 [==============================] - 0s 2ms/step - loss: 0.0537 - accuracy: 0.9902 - val_loss: 0.0332 - val_accuracy: 0.9783\n",
            "Epoch 46/50\n",
            "41/41 [==============================] - 0s 2ms/step - loss: 0.0619 - accuracy: 0.9804 - val_loss: 0.0352 - val_accuracy: 0.9783\n",
            "Epoch 47/50\n",
            "41/41 [==============================] - 0s 2ms/step - loss: 0.0580 - accuracy: 0.9804 - val_loss: 0.0262 - val_accuracy: 0.9783\n",
            "Epoch 48/50\n",
            "41/41 [==============================] - 0s 2ms/step - loss: 0.0420 - accuracy: 0.9853 - val_loss: 0.0400 - val_accuracy: 0.9783\n",
            "Epoch 49/50\n",
            "41/41 [==============================] - 0s 2ms/step - loss: 0.0441 - accuracy: 0.9853 - val_loss: 0.0462 - val_accuracy: 0.9783\n",
            "Epoch 50/50\n",
            "41/41 [==============================] - 0s 2ms/step - loss: 0.0546 - accuracy: 0.9878 - val_loss: 0.0517 - val_accuracy: 0.9783\n"
          ],
          "name": "stdout"
        }
      ]
    },
    {
      "cell_type": "code",
      "metadata": {
        "id": "gVfVtC8LLLul",
        "colab_type": "code",
        "colab": {
          "base_uri": "https://localhost:8080/",
          "height": 573
        },
        "outputId": "9812d991-eb7b-4fa7-dffd-b2c8e8d8fc1d"
      },
      "source": [
        "plt.plot(history.history['accuracy'], label='Training accuracy')\n",
        "plt.plot(history.history['val_accuracy'], label='Validation accuracy')\n",
        "plt.title('Validation accuracy')\n",
        "plt.ylabel('accuracy')\n",
        "plt.xlabel('Epoch')\n",
        "plt.legend(loc=\"upper left\")\n",
        "plt.show()\n",
        "\n",
        "plt.plot(history.history['loss'], label='Training loss')\n",
        "plt.plot(history.history['val_loss'], label='Validation loss')\n",
        "plt.title('validation loss values')\n",
        "plt.ylabel('Loss value')\n",
        "plt.xlabel('Epoch')\n",
        "plt.legend(loc=\"upper left\")\n",
        "plt.show()"
      ],
      "execution_count": 13,
      "outputs": [
        {
          "output_type": "display_data",
          "data": {
            "image/png": "[encoded data removed]",
            "text/plain": [
              "<Figure size 432x288 with 1 Axes>"
            ]
          },
          "metadata": {
            "tags": [],
            "needs_background": "light"
          }
        },
        {
          "output_type": "display_data",
          "data": {
            "image/png": "[encoded data removed]",
            "text/plain": [
              "<Figure size 432x288 with 1 Axes>"
            ]
          },
          "metadata": {
            "tags": [],
            "needs_background": "light"
          }
        }
      ]
    },
    {
      "cell_type": "code",
      "metadata": {
        "id": "RKnCxA96Ld_1",
        "colab_type": "code",
        "colab": {
          "base_uri": "https://localhost:8080/",
          "height": 51
        },
        "outputId": "8f477a9e-2d6c-4e26-847b-355e240b0105"
      },
      "source": [
        "model.evaluate(X_test,y_test)"
      ],
      "execution_count": 14,
      "outputs": [
        {
          "output_type": "stream",
          "text": [
            "4/4 [==============================] - 0s 2ms/step - loss: 0.0125 - accuracy: 1.0000\n"
          ],
          "name": "stdout"
        },
        {
          "output_type": "execute_result",
          "data": {
            "text/plain": [
              "[0.012500778771936893, 1.0]"
            ]
          },
          "metadata": {
            "tags": []
          },
          "execution_count": 14
        }
      ]
    },
    {
      "cell_type": "code",
      "metadata": {
        "id": "NBG2LeaEM6TJ",
        "colab_type": "code",
        "colab": {}
      },
      "source": [
        "y_pred=model.predict_classes(X_test.values)"
      ],
      "execution_count": 0,
      "outputs": []
    },
    {
      "cell_type": "code",
      "metadata": {
        "id": "2utytRHpNPeA",
        "colab_type": "code",
        "colab": {
          "base_uri": "https://localhost:8080/",
          "height": 54
        },
        "outputId": "83e873f2-9f4c-4bcf-a8d9-0081a52ce2e5"
      },
      "source": [
        "from sklearn.metrics import classification_report\n",
        "classification_report(y_test,y_pred)"
      ],
      "execution_count": 26,
      "outputs": [
        {
          "output_type": "execute_result",
          "data": {
            "text/plain": [
              "'              precision    recall  f1-score   support\\n\\n           0       1.00      1.00      1.00        42\\n           1       1.00      1.00      1.00        72\\n\\n    accuracy                           1.00       114\\n   macro avg       1.00      1.00      1.00       114\\nweighted avg       1.00      1.00      1.00       114\\n'"
            ]
          },
          "metadata": {
            "tags": []
          },
          "execution_count": 26
        }
      ]
    },
    {
      "cell_type": "code",
      "metadata": {
        "id": "jYm78p-kNZDA",
        "colab_type": "code",
        "colab": {}
      },
      "source": [
        ""
      ],
      "execution_count": 0,
      "outputs": []
    }
  ]
}