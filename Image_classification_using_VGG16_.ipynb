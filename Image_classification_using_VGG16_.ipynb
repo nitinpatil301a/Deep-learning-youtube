{
  "nbformat": 4,
  "nbformat_minor": 0,
  "metadata": {
    "colab": {
      "name": "Image classification using VGG16 .ipynb",
      "provenance": [],
      "collapsed_sections": [],
      "mount_file_id": "1hPVotCGHr-bXZi_Hhy3F39QHDHvVJZ-F",
      "authorship_tag": "ABX9TyMuwNReTJjpOpnpFJDtTRkX",
      "include_colab_link": true
    },
    "kernelspec": {
      "name": "python3",
      "display_name": "Python 3"
    },
    "accelerator": "TPU"
  },
  "cells": [
    {
      "cell_type": "markdown",
      "metadata": {
        "id": "view-in-github",
        "colab_type": "text"
      },
      "source": [
        "<a href=\"https://colab.research.google.com/github/nitinpatil301a/Deep-learning-youtube/blob/master/Image_classification_using_VGG16_.ipynb\" target=\"_parent\"><img src=\"https://colab.research.google.com/assets/colab-badge.svg\" alt=\"Open In Colab\"/></a>"
      ]
    },
    {
      "cell_type": "code",
      "metadata": {
        "id": "6sGF19UdFmer",
        "colab_type": "code",
        "outputId": "8d100b54-2bb2-4bb6-ad95-e02033208202",
        "colab": {
          "base_uri": "https://localhost:8080/",
          "height": 101
        }
      },
      "source": [
        "%tensorflow_version 2.0.0\n",
        "import tensorflow as tf\n",
        "from tensorflow.keras import Sequential,Model\n",
        "from tensorflow.keras.layers import Dense,Dropout,Flatten,BatchNormalization\n",
        "from tensorflow.keras.applications.vgg16 import VGG16,preprocess_input\n",
        "from tensorflow.keras.preprocessing.image import ImageDataGenerator\n",
        "import numpy as np\n",
        "import pandas as pd\n",
        "import matplotlib.pyplot as plt\n",
        "%matplotlib inline"
      ],
      "execution_count": 8,
      "outputs": [
        {
          "output_type": "stream",
          "text": [
            "`%tensorflow_version` only switches the major version: 1.x or 2.x.\n",
            "You set: `2.0.0`. This will be interpreted as: `2.x`.\n",
            "\n",
            "\n",
            "TensorFlow is already loaded. Please restart the runtime to change versions.\n"
          ],
          "name": "stdout"
        }
      ]
    },
    {
      "cell_type": "code",
      "metadata": {
        "id": "Slw3HT5BHOgz",
        "colab_type": "code",
        "outputId": "1f05e10d-5238-4f94-8faf-b8fd03d8a950",
        "colab": {
          "base_uri": "https://localhost:8080/",
          "height": 34
        }
      },
      "source": [
        "cd /content/drive/My Drive/cat_dog_dataset_zip"
      ],
      "execution_count": 9,
      "outputs": [
        {
          "output_type": "stream",
          "text": [
            "/content/drive/My Drive/cat_dog_dataset_zip\n"
          ],
          "name": "stdout"
        }
      ]
    },
    {
      "cell_type": "code",
      "metadata": {
        "id": "tCMO0SLEHe91",
        "colab_type": "code",
        "colab": {}
      },
      "source": [
        "#!unzip validation.zip"
      ],
      "execution_count": 0,
      "outputs": []
    },
    {
      "cell_type": "code",
      "metadata": {
        "id": "TzBUjiNBHoCU",
        "colab_type": "code",
        "colab": {}
      },
      "source": [
        "#!unzip train.zip\n"
      ],
      "execution_count": 0,
      "outputs": []
    },
    {
      "cell_type": "code",
      "metadata": {
        "id": "3HOqbMdNHtX8",
        "colab_type": "code",
        "colab": {}
      },
      "source": [
        "train_data_dir=\"/content/drive/My Drive/cat_dog_dataset_zip/train\"\n",
        "validation_data_dir=\"/content/drive/My Drive/cat_dog_dataset_zip/validation\"\n",
        "img_width=50\n",
        "img_height=50\n",
        "batch_size=500"
      ],
      "execution_count": 0,
      "outputs": []
    },
    {
      "cell_type": "code",
      "metadata": {
        "id": "_xsuvsBkIMiD",
        "colab_type": "code",
        "outputId": "774fadd9-5717-49a5-b78c-7222a76e9894",
        "colab": {
          "base_uri": "https://localhost:8080/",
          "height": 50
        }
      },
      "source": [
        "datagen = ImageDataGenerator(rescale=1./255)\n",
        "train_generator = datagen.flow_from_directory(directory=train_data_dir,\n",
        "                                              target_size = (img_width, img_height),\n",
        "                                              classes=['cat','dog'],\n",
        "                                              class_mode = 'binary',\n",
        "                                              batch_size=batch_size)\n",
        "\n",
        "validation_generator = datagen.flow_from_directory(directory=validation_data_dir,\n",
        "                                              target_size = (img_width, img_height),\n",
        "                                              classes=['cat','dog'],\n",
        "                                              class_mode = 'binary',\n",
        "                                              batch_size=batch_size)"
      ],
      "execution_count": 13,
      "outputs": [
        {
          "output_type": "stream",
          "text": [
            "Found 24962 images belonging to 2 classes.\n",
            "Found 38 images belonging to 2 classes.\n"
          ],
          "name": "stdout"
        }
      ]
    },
    {
      "cell_type": "code",
      "metadata": {
        "id": "9XbKcjYZIbvd",
        "colab_type": "code",
        "colab": {
          "base_uri": "https://localhost:8080/",
          "height": 50
        },
        "outputId": "c6495d44-1600-4627-9bac-deda66652ae1"
      },
      "source": [
        "vgg_arch=VGG16(input_shape=(img_width,img_height,3),weights=\"imagenet\",include_top=False)"
      ],
      "execution_count": 14,
      "outputs": [
        {
          "output_type": "stream",
          "text": [
            "Downloading data from https://storage.googleapis.com/tensorflow/keras-applications/vgg16/vgg16_weights_tf_dim_ordering_tf_kernels_notop.h5\n",
            "58892288/58889256 [==============================] - 1s 0us/step\n"
          ],
          "name": "stdout"
        }
      ]
    },
    {
      "cell_type": "code",
      "metadata": {
        "id": "HP8PKhPuJ7PL",
        "colab_type": "code",
        "colab": {}
      },
      "source": [
        "for layers in vgg_arch.layers:\n",
        "  layers.trainable=False"
      ],
      "execution_count": 0,
      "outputs": []
    },
    {
      "cell_type": "code",
      "metadata": {
        "id": "WXu2TjBcKGus",
        "colab_type": "code",
        "colab": {}
      },
      "source": [
        "model=Sequential()\n",
        "model.add(vgg_arch)\n",
        "model.add(Flatten())\n",
        "model.add(Dense(128,activation='relu',))\n",
        "model.add(Dropout(0.5))\n",
        "model.add(BatchNormalization())\n",
        "model.add(Dense(1,activation=\"sigmoid\"))"
      ],
      "execution_count": 0,
      "outputs": []
    },
    {
      "cell_type": "code",
      "metadata": {
        "id": "riZfbMcaKrSr",
        "colab_type": "code",
        "colab": {
          "base_uri": "https://localhost:8080/",
          "height": 353
        },
        "outputId": "dfad5355-0479-4d4a-cd9b-5a71afb0ebfc"
      },
      "source": [
        "model.summary()"
      ],
      "execution_count": 18,
      "outputs": [
        {
          "output_type": "stream",
          "text": [
            "Model: \"sequential\"\n",
            "_________________________________________________________________\n",
            "Layer (type)                 Output Shape              Param #   \n",
            "=================================================================\n",
            "vgg16 (Model)                (None, 1, 1, 512)         14714688  \n",
            "_________________________________________________________________\n",
            "flatten (Flatten)            (None, 512)               0         \n",
            "_________________________________________________________________\n",
            "dense (Dense)                (None, 128)               65664     \n",
            "_________________________________________________________________\n",
            "dropout (Dropout)            (None, 128)               0         \n",
            "_________________________________________________________________\n",
            "batch_normalization (BatchNo (None, 128)               512       \n",
            "_________________________________________________________________\n",
            "dense_1 (Dense)              (None, 1)                 129       \n",
            "=================================================================\n",
            "Total params: 14,780,993\n",
            "Trainable params: 66,049\n",
            "Non-trainable params: 14,714,944\n",
            "_________________________________________________________________\n"
          ],
          "name": "stdout"
        }
      ]
    },
    {
      "cell_type": "code",
      "metadata": {
        "id": "0OQyKPz2KtL6",
        "colab_type": "code",
        "colab": {}
      },
      "source": [
        "model.compile(optimizer=\"adam\",loss=\"binary_crossentropy\",metrics=['accuracy'])"
      ],
      "execution_count": 0,
      "outputs": []
    },
    {
      "cell_type": "code",
      "metadata": {
        "id": "_sYfGb9fK-Lp",
        "colab_type": "code",
        "colab": {
          "base_uri": "https://localhost:8080/",
          "height": 403
        },
        "outputId": "daea7f70-2d40-4c17-cc69-e1b7962a89ae"
      },
      "source": [
        "history=model.fit_generator(generator=train_generator, steps_per_epoch=len(train_generator), epochs = 10, \n",
        "                              validation_data=validation_generator, validation_steps=len(validation_generator)\n",
        "                              , verbose = 1)"
      ],
      "execution_count": 21,
      "outputs": [
        {
          "output_type": "stream",
          "text": [
            "WARNING:tensorflow:From <ipython-input-21-f621503021ad>:3: Model.fit_generator (from tensorflow.python.keras.engine.training) is deprecated and will be removed in a future version.\n",
            "Instructions for updating:\n",
            "Please use Model.fit, which supports generators.\n",
            "Epoch 1/10\n",
            "50/50 [==============================] - 669s 13s/step - loss: 0.6078 - accuracy: 0.6884 - val_loss: 0.5221 - val_accuracy: 0.7105\n",
            "Epoch 2/10\n",
            "50/50 [==============================] - 681s 14s/step - loss: 0.5186 - accuracy: 0.7424 - val_loss: 0.5263 - val_accuracy: 0.7632\n",
            "Epoch 3/10\n",
            "50/50 [==============================] - 672s 13s/step - loss: 0.4888 - accuracy: 0.7592 - val_loss: 0.5145 - val_accuracy: 0.7895\n",
            "Epoch 4/10\n",
            "50/50 [==============================] - 667s 13s/step - loss: 0.4729 - accuracy: 0.7698 - val_loss: 0.4969 - val_accuracy: 0.7895\n",
            "Epoch 5/10\n",
            "50/50 [==============================] - 665s 13s/step - loss: 0.4634 - accuracy: 0.7741 - val_loss: 0.4728 - val_accuracy: 0.7895\n",
            "Epoch 6/10\n",
            "50/50 [==============================] - 663s 13s/step - loss: 0.4547 - accuracy: 0.7779 - val_loss: 0.4883 - val_accuracy: 0.7368\n",
            "Epoch 7/10\n",
            "50/50 [==============================] - 665s 13s/step - loss: 0.4465 - accuracy: 0.7848 - val_loss: 0.4667 - val_accuracy: 0.7895\n",
            "Epoch 8/10\n",
            "50/50 [==============================] - 659s 13s/step - loss: 0.4408 - accuracy: 0.7932 - val_loss: 0.4768 - val_accuracy: 0.7632\n",
            "Epoch 9/10\n",
            "50/50 [==============================] - 657s 13s/step - loss: 0.4344 - accuracy: 0.7956 - val_loss: 0.4515 - val_accuracy: 0.8158\n",
            "Epoch 10/10\n",
            "50/50 [==============================] - 659s 13s/step - loss: 0.4281 - accuracy: 0.7981 - val_loss: 0.4532 - val_accuracy: 0.7632\n"
          ],
          "name": "stdout"
        }
      ]
    },
    {
      "cell_type": "code",
      "metadata": {
        "id": "9AOMk7t4LSOM",
        "colab_type": "code",
        "colab": {}
      },
      "source": [
        "from tensorflow.keras.preprocessing import image"
      ],
      "execution_count": 0,
      "outputs": []
    },
    {
      "cell_type": "code",
      "metadata": {
        "id": "2dDkrNeBlgN_",
        "colab_type": "code",
        "colab": {
          "base_uri": "https://localhost:8080/",
          "height": 284
        },
        "outputId": "2d99535c-8d00-4e50-bdf2-852488438a1f"
      },
      "source": [
        "img=image.load_img(\"/content/drive/My Drive/cat_dog_dataset_zip/validation/cat/cat.12481.jpg\",target_size=(img_width,img_height))\n",
        "plt.imshow(img)\n",
        "img=image.img_to_array(img)\n",
        "img=img/255.0\n",
        "img = np.expand_dims(img, axis=0)\n",
        "img_class = np.argmax(model.predict(img),axis=1)\n",
        "img_class"
      ],
      "execution_count": 23,
      "outputs": [
        {
          "output_type": "execute_result",
          "data": {
            "text/plain": [
              "array([0])"
            ]
          },
          "metadata": {
            "tags": []
          },
          "execution_count": 23
        },
        {
          "output_type": "display_data",
          "data": {
            "image/png": "[encoded data removed]",
            "text/plain": [
              "<Figure size 432x288 with 1 Axes>"
            ]
          },
          "metadata": {
            "tags": [],
            "needs_background": "light"
          }
        }
      ]
    },
    {
      "cell_type": "code",
      "metadata": {
        "id": "XeLClpOqlrTM",
        "colab_type": "code",
        "colab": {}
      },
      "source": [
        ""
      ],
      "execution_count": 0,
      "outputs": []
    }
  ]
}