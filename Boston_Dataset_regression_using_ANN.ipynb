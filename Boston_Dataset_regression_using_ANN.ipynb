{
  "nbformat": 4,
  "nbformat_minor": 0,
  "metadata": {
    "colab": {
      "name": "Boston Dataset regression using ANN",
      "provenance": [],
      "collapsed_sections": [],
      "authorship_tag": "ABX9TyOtOuJ7WPoJ4/BvgAI7w+XJ",
      "include_colab_link": true
    },
    "kernelspec": {
      "name": "python3",
      "display_name": "Python 3"
    },
    "accelerator": "TPU"
  },
  "cells": [
    {
      "cell_type": "markdown",
      "metadata": {
        "id": "view-in-github",
        "colab_type": "text"
      },
      "source": [
        "<a href=\"https://colab.research.google.com/github/nitinpatil301a/Deep-learning-youtube/blob/master/Boston_Dataset_regression_using_ANN.ipynb\" target=\"_parent\"><img src=\"https://colab.research.google.com/assets/colab-badge.svg\" alt=\"Open In Colab\"/></a>"
      ]
    },
    {
      "cell_type": "code",
      "metadata": {
        "id": "0Pf48hghB5Hd",
        "colab_type": "code",
        "outputId": "765b29b7-b199-430c-d153-c54eb663c7fe",
        "colab": {
          "base_uri": "https://localhost:8080/",
          "height": 102
        }
      },
      "source": [
        "%tensorflow_version 2.0.0\n",
        "import tensorflow as tf\n",
        "from tensorflow import keras\n",
        "import pandas as pd\n",
        "import numpy as np\n",
        "import matplotlib.pyplot as plt\n",
        "%matplotlib inline"
      ],
      "execution_count": 1,
      "outputs": [
        {
          "output_type": "stream",
          "text": [
            "`%tensorflow_version` only switches the major version: 1.x or 2.x.\n",
            "You set: `2.0.0`. This will be interpreted as: `2.x`.\n",
            "\n",
            "\n",
            "TensorFlow 2.x selected.\n"
          ],
          "name": "stdout"
        }
      ]
    },
    {
      "cell_type": "code",
      "metadata": {
        "id": "WgqYYrPdCmfl",
        "colab_type": "code",
        "colab": {}
      },
      "source": [
        "from sklearn.datasets import load_boston\n",
        "boston=load_boston()"
      ],
      "execution_count": 0,
      "outputs": []
    },
    {
      "cell_type": "code",
      "metadata": {
        "id": "EKU0yBDjCwRY",
        "colab_type": "code",
        "outputId": "f6736d76-1914-4edf-d5ba-0eef61e6aadf",
        "colab": {
          "base_uri": "https://localhost:8080/",
          "height": 204
        }
      },
      "source": [
        "X=pd.DataFrame(boston.data,columns=boston.feature_names)\n",
        "X.head()"
      ],
      "execution_count": 3,
      "outputs": [
        {
          "output_type": "execute_result",
          "data": {
            "text/html": [
              "<div>\n",
              "<style scoped>\n",
              "    .dataframe tbody tr th:only-of-type {\n",
              "        vertical-align: middle;\n",
              "    }\n",
              "\n",
              "    .dataframe tbody tr th {\n",
              "        vertical-align: top;\n",
              "    }\n",
              "\n",
              "    .dataframe thead th {\n",
              "        text-align: right;\n",
              "    }\n",
              "</style>\n",
              "<table border=\"1\" class=\"dataframe\">\n",
              "  <thead>\n",
              "    <tr style=\"text-align: right;\">\n",
              "      <th></th>\n",
              "      <th>CRIM</th>\n",
              "      <th>ZN</th>\n",
              "      <th>INDUS</th>\n",
              "      <th>CHAS</th>\n",
              "      <th>NOX</th>\n",
              "      <th>RM</th>\n",
              "      <th>AGE</th>\n",
              "      <th>DIS</th>\n",
              "      <th>RAD</th>\n",
              "      <th>TAX</th>\n",
              "      <th>PTRATIO</th>\n",
              "      <th>B</th>\n",
              "      <th>LSTAT</th>\n",
              "    </tr>\n",
              "  </thead>\n",
              "  <tbody>\n",
              "    <tr>\n",
              "      <th>0</th>\n",
              "      <td>0.00632</td>\n",
              "      <td>18.0</td>\n",
              "      <td>2.31</td>\n",
              "      <td>0.0</td>\n",
              "      <td>0.538</td>\n",
              "      <td>6.575</td>\n",
              "      <td>65.2</td>\n",
              "      <td>4.0900</td>\n",
              "      <td>1.0</td>\n",
              "      <td>296.0</td>\n",
              "      <td>15.3</td>\n",
              "      <td>396.90</td>\n",
              "      <td>4.98</td>\n",
              "    </tr>\n",
              "    <tr>\n",
              "      <th>1</th>\n",
              "      <td>0.02731</td>\n",
              "      <td>0.0</td>\n",
              "      <td>7.07</td>\n",
              "      <td>0.0</td>\n",
              "      <td>0.469</td>\n",
              "      <td>6.421</td>\n",
              "      <td>78.9</td>\n",
              "      <td>4.9671</td>\n",
              "      <td>2.0</td>\n",
              "      <td>242.0</td>\n",
              "      <td>17.8</td>\n",
              "      <td>396.90</td>\n",
              "      <td>9.14</td>\n",
              "    </tr>\n",
              "    <tr>\n",
              "      <th>2</th>\n",
              "      <td>0.02729</td>\n",
              "      <td>0.0</td>\n",
              "      <td>7.07</td>\n",
              "      <td>0.0</td>\n",
              "      <td>0.469</td>\n",
              "      <td>7.185</td>\n",
              "      <td>61.1</td>\n",
              "      <td>4.9671</td>\n",
              "      <td>2.0</td>\n",
              "      <td>242.0</td>\n",
              "      <td>17.8</td>\n",
              "      <td>392.83</td>\n",
              "      <td>4.03</td>\n",
              "    </tr>\n",
              "    <tr>\n",
              "      <th>3</th>\n",
              "      <td>0.03237</td>\n",
              "      <td>0.0</td>\n",
              "      <td>2.18</td>\n",
              "      <td>0.0</td>\n",
              "      <td>0.458</td>\n",
              "      <td>6.998</td>\n",
              "      <td>45.8</td>\n",
              "      <td>6.0622</td>\n",
              "      <td>3.0</td>\n",
              "      <td>222.0</td>\n",
              "      <td>18.7</td>\n",
              "      <td>394.63</td>\n",
              "      <td>2.94</td>\n",
              "    </tr>\n",
              "    <tr>\n",
              "      <th>4</th>\n",
              "      <td>0.06905</td>\n",
              "      <td>0.0</td>\n",
              "      <td>2.18</td>\n",
              "      <td>0.0</td>\n",
              "      <td>0.458</td>\n",
              "      <td>7.147</td>\n",
              "      <td>54.2</td>\n",
              "      <td>6.0622</td>\n",
              "      <td>3.0</td>\n",
              "      <td>222.0</td>\n",
              "      <td>18.7</td>\n",
              "      <td>396.90</td>\n",
              "      <td>5.33</td>\n",
              "    </tr>\n",
              "  </tbody>\n",
              "</table>\n",
              "</div>"
            ],
            "text/plain": [
              "      CRIM    ZN  INDUS  CHAS    NOX  ...  RAD    TAX  PTRATIO       B  LSTAT\n",
              "0  0.00632  18.0   2.31   0.0  0.538  ...  1.0  296.0     15.3  396.90   4.98\n",
              "1  0.02731   0.0   7.07   0.0  0.469  ...  2.0  242.0     17.8  396.90   9.14\n",
              "2  0.02729   0.0   7.07   0.0  0.469  ...  2.0  242.0     17.8  392.83   4.03\n",
              "3  0.03237   0.0   2.18   0.0  0.458  ...  3.0  222.0     18.7  394.63   2.94\n",
              "4  0.06905   0.0   2.18   0.0  0.458  ...  3.0  222.0     18.7  396.90   5.33\n",
              "\n",
              "[5 rows x 13 columns]"
            ]
          },
          "metadata": {
            "tags": []
          },
          "execution_count": 3
        }
      ]
    },
    {
      "cell_type": "code",
      "metadata": {
        "id": "Z9PQC038C9im",
        "colab_type": "code",
        "outputId": "821c7584-39ac-47bb-b8d1-570a14dae274",
        "colab": {
          "base_uri": "https://localhost:8080/",
          "height": 204
        }
      },
      "source": [
        "y=pd.DataFrame(boston.target,columns=['target'])\n",
        "y.head()"
      ],
      "execution_count": 4,
      "outputs": [
        {
          "output_type": "execute_result",
          "data": {
            "text/html": [
              "<div>\n",
              "<style scoped>\n",
              "    .dataframe tbody tr th:only-of-type {\n",
              "        vertical-align: middle;\n",
              "    }\n",
              "\n",
              "    .dataframe tbody tr th {\n",
              "        vertical-align: top;\n",
              "    }\n",
              "\n",
              "    .dataframe thead th {\n",
              "        text-align: right;\n",
              "    }\n",
              "</style>\n",
              "<table border=\"1\" class=\"dataframe\">\n",
              "  <thead>\n",
              "    <tr style=\"text-align: right;\">\n",
              "      <th></th>\n",
              "      <th>target</th>\n",
              "    </tr>\n",
              "  </thead>\n",
              "  <tbody>\n",
              "    <tr>\n",
              "      <th>0</th>\n",
              "      <td>24.0</td>\n",
              "    </tr>\n",
              "    <tr>\n",
              "      <th>1</th>\n",
              "      <td>21.6</td>\n",
              "    </tr>\n",
              "    <tr>\n",
              "      <th>2</th>\n",
              "      <td>34.7</td>\n",
              "    </tr>\n",
              "    <tr>\n",
              "      <th>3</th>\n",
              "      <td>33.4</td>\n",
              "    </tr>\n",
              "    <tr>\n",
              "      <th>4</th>\n",
              "      <td>36.2</td>\n",
              "    </tr>\n",
              "  </tbody>\n",
              "</table>\n",
              "</div>"
            ],
            "text/plain": [
              "   target\n",
              "0    24.0\n",
              "1    21.6\n",
              "2    34.7\n",
              "3    33.4\n",
              "4    36.2"
            ]
          },
          "metadata": {
            "tags": []
          },
          "execution_count": 4
        }
      ]
    },
    {
      "cell_type": "code",
      "metadata": {
        "id": "8OEdqExBDG8_",
        "colab_type": "code",
        "outputId": "ecb5f85f-f818-4c24-87bf-2d9281d9af70",
        "colab": {
          "base_uri": "https://localhost:8080/",
          "height": 204
        }
      },
      "source": [
        "from sklearn.preprocessing import StandardScaler\n",
        "sc=StandardScaler()\n",
        "\n",
        "X=pd.DataFrame(sc.fit_transform(X),columns=X.columns)\n",
        "X.head()"
      ],
      "execution_count": 5,
      "outputs": [
        {
          "output_type": "execute_result",
          "data": {
            "text/html": [
              "<div>\n",
              "<style scoped>\n",
              "    .dataframe tbody tr th:only-of-type {\n",
              "        vertical-align: middle;\n",
              "    }\n",
              "\n",
              "    .dataframe tbody tr th {\n",
              "        vertical-align: top;\n",
              "    }\n",
              "\n",
              "    .dataframe thead th {\n",
              "        text-align: right;\n",
              "    }\n",
              "</style>\n",
              "<table border=\"1\" class=\"dataframe\">\n",
              "  <thead>\n",
              "    <tr style=\"text-align: right;\">\n",
              "      <th></th>\n",
              "      <th>CRIM</th>\n",
              "      <th>ZN</th>\n",
              "      <th>INDUS</th>\n",
              "      <th>CHAS</th>\n",
              "      <th>NOX</th>\n",
              "      <th>RM</th>\n",
              "      <th>AGE</th>\n",
              "      <th>DIS</th>\n",
              "      <th>RAD</th>\n",
              "      <th>TAX</th>\n",
              "      <th>PTRATIO</th>\n",
              "      <th>B</th>\n",
              "      <th>LSTAT</th>\n",
              "    </tr>\n",
              "  </thead>\n",
              "  <tbody>\n",
              "    <tr>\n",
              "      <th>0</th>\n",
              "      <td>-0.419782</td>\n",
              "      <td>0.284830</td>\n",
              "      <td>-1.287909</td>\n",
              "      <td>-0.272599</td>\n",
              "      <td>-0.144217</td>\n",
              "      <td>0.413672</td>\n",
              "      <td>-0.120013</td>\n",
              "      <td>0.140214</td>\n",
              "      <td>-0.982843</td>\n",
              "      <td>-0.666608</td>\n",
              "      <td>-1.459000</td>\n",
              "      <td>0.441052</td>\n",
              "      <td>-1.075562</td>\n",
              "    </tr>\n",
              "    <tr>\n",
              "      <th>1</th>\n",
              "      <td>-0.417339</td>\n",
              "      <td>-0.487722</td>\n",
              "      <td>-0.593381</td>\n",
              "      <td>-0.272599</td>\n",
              "      <td>-0.740262</td>\n",
              "      <td>0.194274</td>\n",
              "      <td>0.367166</td>\n",
              "      <td>0.557160</td>\n",
              "      <td>-0.867883</td>\n",
              "      <td>-0.987329</td>\n",
              "      <td>-0.303094</td>\n",
              "      <td>0.441052</td>\n",
              "      <td>-0.492439</td>\n",
              "    </tr>\n",
              "    <tr>\n",
              "      <th>2</th>\n",
              "      <td>-0.417342</td>\n",
              "      <td>-0.487722</td>\n",
              "      <td>-0.593381</td>\n",
              "      <td>-0.272599</td>\n",
              "      <td>-0.740262</td>\n",
              "      <td>1.282714</td>\n",
              "      <td>-0.265812</td>\n",
              "      <td>0.557160</td>\n",
              "      <td>-0.867883</td>\n",
              "      <td>-0.987329</td>\n",
              "      <td>-0.303094</td>\n",
              "      <td>0.396427</td>\n",
              "      <td>-1.208727</td>\n",
              "    </tr>\n",
              "    <tr>\n",
              "      <th>3</th>\n",
              "      <td>-0.416750</td>\n",
              "      <td>-0.487722</td>\n",
              "      <td>-1.306878</td>\n",
              "      <td>-0.272599</td>\n",
              "      <td>-0.835284</td>\n",
              "      <td>1.016303</td>\n",
              "      <td>-0.809889</td>\n",
              "      <td>1.077737</td>\n",
              "      <td>-0.752922</td>\n",
              "      <td>-1.106115</td>\n",
              "      <td>0.113032</td>\n",
              "      <td>0.416163</td>\n",
              "      <td>-1.361517</td>\n",
              "    </tr>\n",
              "    <tr>\n",
              "      <th>4</th>\n",
              "      <td>-0.412482</td>\n",
              "      <td>-0.487722</td>\n",
              "      <td>-1.306878</td>\n",
              "      <td>-0.272599</td>\n",
              "      <td>-0.835284</td>\n",
              "      <td>1.228577</td>\n",
              "      <td>-0.511180</td>\n",
              "      <td>1.077737</td>\n",
              "      <td>-0.752922</td>\n",
              "      <td>-1.106115</td>\n",
              "      <td>0.113032</td>\n",
              "      <td>0.441052</td>\n",
              "      <td>-1.026501</td>\n",
              "    </tr>\n",
              "  </tbody>\n",
              "</table>\n",
              "</div>"
            ],
            "text/plain": [
              "       CRIM        ZN     INDUS  ...   PTRATIO         B     LSTAT\n",
              "0 -0.419782  0.284830 -1.287909  ... -1.459000  0.441052 -1.075562\n",
              "1 -0.417339 -0.487722 -0.593381  ... -0.303094  0.441052 -0.492439\n",
              "2 -0.417342 -0.487722 -0.593381  ... -0.303094  0.396427 -1.208727\n",
              "3 -0.416750 -0.487722 -1.306878  ...  0.113032  0.416163 -1.361517\n",
              "4 -0.412482 -0.487722 -1.306878  ...  0.113032  0.441052 -1.026501\n",
              "\n",
              "[5 rows x 13 columns]"
            ]
          },
          "metadata": {
            "tags": []
          },
          "execution_count": 5
        }
      ]
    },
    {
      "cell_type": "code",
      "metadata": {
        "id": "xiZrw215DgIn",
        "colab_type": "code",
        "outputId": "77c054d0-77d3-485a-9a8d-9cda1f6c7f95",
        "colab": {
          "base_uri": "https://localhost:8080/",
          "height": 34
        }
      },
      "source": [
        "from sklearn.model_selection import train_test_split\n",
        "x_train,x_test,y_train,y_test=train_test_split(X.values,y.values,test_size=0.2)\n",
        "x_train.shape,y_train.shape,x_test.shape,y_test.shape"
      ],
      "execution_count": 6,
      "outputs": [
        {
          "output_type": "execute_result",
          "data": {
            "text/plain": [
              "((404, 13), (404, 1), (102, 13), (102, 1))"
            ]
          },
          "metadata": {
            "tags": []
          },
          "execution_count": 6
        }
      ]
    },
    {
      "cell_type": "code",
      "metadata": {
        "id": "RcdBiFhEDofq",
        "colab_type": "code",
        "colab": {}
      },
      "source": [
        "from tensorflow.keras import Sequential\n",
        "from tensorflow.keras.layers import Dense,Dropout,BatchNormalization"
      ],
      "execution_count": 0,
      "outputs": []
    },
    {
      "cell_type": "code",
      "metadata": {
        "id": "tBFbtiAyD4tm",
        "colab_type": "code",
        "colab": {}
      },
      "source": [
        "model=Sequential()\n",
        "model.add(Dense(128,activation='relu'))\n",
        "model.add(Dropout(0.5))\n",
        "model.add(Dense(28,activation='relu'))\n",
        "model.add(Dropout(0.2))\n",
        "model.add(Dense(10,activation='relu'))\n",
        "model.add(Dropout(0.2))\n",
        "model.add(Dense(1,activation='linear'))\n",
        "\n"
      ],
      "execution_count": 0,
      "outputs": []
    },
    {
      "cell_type": "code",
      "metadata": {
        "id": "9rAALeXjEeDQ",
        "colab_type": "code",
        "colab": {}
      },
      "source": [
        "model.compile(optimizer='adam',loss='mse',metrics=['mse'])"
      ],
      "execution_count": 0,
      "outputs": []
    },
    {
      "cell_type": "code",
      "metadata": {
        "id": "fjzWUOvPEpvX",
        "colab_type": "code",
        "outputId": "4d8f42db-2bb6-441a-86e5-68fa430dbb1a",
        "colab": {
          "base_uri": "https://localhost:8080/",
          "height": 1000
        }
      },
      "source": [
        "history=model.fit(x_train,y_train,batch_size=10,epochs=100,validation_split=0.2)"
      ],
      "execution_count": 10,
      "outputs": [
        {
          "output_type": "stream",
          "text": [
            "Epoch 1/100\n",
            "WARNING:tensorflow:Layer dense is casting an input tensor from dtype float64 to the layer's dtype of float32, which is new behavior in TensorFlow 2.  The layer has dtype float32 because it's dtype defaults to floatx.\n",
            "\n",
            "If you intended to run this layer in float32, you can safely ignore this warning. If in doubt, this warning is likely only an issue if you are porting a TensorFlow 1.X model to TensorFlow 2.\n",
            "\n",
            "To change all layers to have dtype float64 by default, call `tf.keras.backend.set_floatx('float64')`. To change just this layer, pass dtype='float64' to the layer constructor. If you are the author of this layer, you can disable autocasting by passing autocast=False to the base Layer constructor.\n",
            "\n",
            "33/33 [==============================] - 0s 7ms/step - loss: 530.3576 - mse: 530.3576 - val_loss: 477.3438 - val_mse: 477.3438\n",
            "Epoch 2/100\n",
            "33/33 [==============================] - 0s 3ms/step - loss: 385.8352 - mse: 385.8352 - val_loss: 223.3658 - val_mse: 223.3657\n",
            "Epoch 3/100\n",
            "33/33 [==============================] - 0s 2ms/step - loss: 172.0244 - mse: 172.0244 - val_loss: 49.9112 - val_mse: 49.9112\n",
            "Epoch 4/100\n",
            "33/33 [==============================] - 0s 3ms/step - loss: 100.4374 - mse: 100.4374 - val_loss: 32.5908 - val_mse: 32.5908\n",
            "Epoch 5/100\n",
            "33/33 [==============================] - 0s 3ms/step - loss: 94.0223 - mse: 94.0223 - val_loss: 23.2059 - val_mse: 23.2059\n",
            "Epoch 6/100\n",
            "33/33 [==============================] - 0s 3ms/step - loss: 83.5478 - mse: 83.5478 - val_loss: 21.3832 - val_mse: 21.3832\n",
            "Epoch 7/100\n",
            "33/33 [==============================] - 0s 3ms/step - loss: 64.5325 - mse: 64.5325 - val_loss: 18.6995 - val_mse: 18.6995\n",
            "Epoch 8/100\n",
            "33/33 [==============================] - 0s 3ms/step - loss: 89.1250 - mse: 89.1250 - val_loss: 17.5037 - val_mse: 17.5037\n",
            "Epoch 9/100\n",
            "33/33 [==============================] - 0s 3ms/step - loss: 68.0297 - mse: 68.0297 - val_loss: 19.2866 - val_mse: 19.2866\n",
            "Epoch 10/100\n",
            "33/33 [==============================] - 0s 2ms/step - loss: 68.5865 - mse: 68.5865 - val_loss: 18.4285 - val_mse: 18.4285\n",
            "Epoch 11/100\n",
            "33/33 [==============================] - 0s 3ms/step - loss: 72.7464 - mse: 72.7464 - val_loss: 14.5319 - val_mse: 14.5319\n",
            "Epoch 12/100\n",
            "33/33 [==============================] - 0s 3ms/step - loss: 60.2105 - mse: 60.2105 - val_loss: 18.2185 - val_mse: 18.2185\n",
            "Epoch 13/100\n",
            "33/33 [==============================] - 0s 2ms/step - loss: 59.3591 - mse: 59.3591 - val_loss: 19.0218 - val_mse: 19.0218\n",
            "Epoch 14/100\n",
            "33/33 [==============================] - 0s 2ms/step - loss: 65.5732 - mse: 65.5732 - val_loss: 14.3461 - val_mse: 14.3461\n",
            "Epoch 15/100\n",
            "33/33 [==============================] - 0s 3ms/step - loss: 70.8441 - mse: 70.8441 - val_loss: 14.3241 - val_mse: 14.3241\n",
            "Epoch 16/100\n",
            "33/33 [==============================] - 0s 3ms/step - loss: 72.1788 - mse: 72.1788 - val_loss: 15.8217 - val_mse: 15.8217\n",
            "Epoch 17/100\n",
            "33/33 [==============================] - 0s 2ms/step - loss: 60.9740 - mse: 60.9740 - val_loss: 15.2951 - val_mse: 15.2951\n",
            "Epoch 18/100\n",
            "33/33 [==============================] - 0s 3ms/step - loss: 64.7342 - mse: 64.7342 - val_loss: 14.5387 - val_mse: 14.5387\n",
            "Epoch 19/100\n",
            "33/33 [==============================] - 0s 2ms/step - loss: 63.0705 - mse: 63.0705 - val_loss: 25.8873 - val_mse: 25.8873\n",
            "Epoch 20/100\n",
            "33/33 [==============================] - 0s 3ms/step - loss: 64.4043 - mse: 64.4043 - val_loss: 25.8842 - val_mse: 25.8842\n",
            "Epoch 21/100\n",
            "33/33 [==============================] - 0s 3ms/step - loss: 56.5538 - mse: 56.5538 - val_loss: 15.1973 - val_mse: 15.1973\n",
            "Epoch 22/100\n",
            "33/33 [==============================] - 0s 2ms/step - loss: 60.2689 - mse: 60.2689 - val_loss: 14.1734 - val_mse: 14.1734\n",
            "Epoch 23/100\n",
            "33/33 [==============================] - 0s 2ms/step - loss: 59.0232 - mse: 59.0232 - val_loss: 15.3908 - val_mse: 15.3908\n",
            "Epoch 24/100\n",
            "33/33 [==============================] - 0s 3ms/step - loss: 46.8250 - mse: 46.8250 - val_loss: 15.1603 - val_mse: 15.1603\n",
            "Epoch 25/100\n",
            "33/33 [==============================] - 0s 3ms/step - loss: 60.5110 - mse: 60.5110 - val_loss: 15.9148 - val_mse: 15.9148\n",
            "Epoch 26/100\n",
            "33/33 [==============================] - 0s 3ms/step - loss: 48.0276 - mse: 48.0276 - val_loss: 14.9938 - val_mse: 14.9938\n",
            "Epoch 27/100\n",
            "33/33 [==============================] - 0s 3ms/step - loss: 56.7047 - mse: 56.7047 - val_loss: 14.9987 - val_mse: 14.9987\n",
            "Epoch 28/100\n",
            "33/33 [==============================] - 0s 3ms/step - loss: 43.7467 - mse: 43.7467 - val_loss: 14.4652 - val_mse: 14.4652\n",
            "Epoch 29/100\n",
            "33/33 [==============================] - 0s 3ms/step - loss: 44.3959 - mse: 44.3959 - val_loss: 18.7990 - val_mse: 18.7990\n",
            "Epoch 30/100\n",
            "33/33 [==============================] - 0s 3ms/step - loss: 53.2014 - mse: 53.2014 - val_loss: 15.8657 - val_mse: 15.8657\n",
            "Epoch 31/100\n",
            "33/33 [==============================] - 0s 2ms/step - loss: 48.3921 - mse: 48.3921 - val_loss: 14.0230 - val_mse: 14.0230\n",
            "Epoch 32/100\n",
            "33/33 [==============================] - 0s 2ms/step - loss: 47.9734 - mse: 47.9734 - val_loss: 14.8914 - val_mse: 14.8914\n",
            "Epoch 33/100\n",
            "33/33 [==============================] - 0s 3ms/step - loss: 45.2181 - mse: 45.2181 - val_loss: 13.6190 - val_mse: 13.6190\n",
            "Epoch 34/100\n",
            "33/33 [==============================] - 0s 3ms/step - loss: 46.4541 - mse: 46.4541 - val_loss: 14.3837 - val_mse: 14.3837\n",
            "Epoch 35/100\n",
            "33/33 [==============================] - 0s 2ms/step - loss: 44.3537 - mse: 44.3537 - val_loss: 13.4633 - val_mse: 13.4633\n",
            "Epoch 36/100\n",
            "33/33 [==============================] - 0s 3ms/step - loss: 47.5779 - mse: 47.5779 - val_loss: 16.1284 - val_mse: 16.1284\n",
            "Epoch 37/100\n",
            "33/33 [==============================] - 0s 2ms/step - loss: 42.8038 - mse: 42.8038 - val_loss: 16.2755 - val_mse: 16.2755\n",
            "Epoch 38/100\n",
            "33/33 [==============================] - 0s 3ms/step - loss: 47.8864 - mse: 47.8864 - val_loss: 12.8792 - val_mse: 12.8792\n",
            "Epoch 39/100\n",
            "33/33 [==============================] - 0s 2ms/step - loss: 51.2743 - mse: 51.2743 - val_loss: 13.8348 - val_mse: 13.8348\n",
            "Epoch 40/100\n",
            "33/33 [==============================] - 0s 2ms/step - loss: 53.4192 - mse: 53.4192 - val_loss: 14.8416 - val_mse: 14.8416\n",
            "Epoch 41/100\n",
            "33/33 [==============================] - 0s 3ms/step - loss: 49.7861 - mse: 49.7861 - val_loss: 14.1180 - val_mse: 14.1180\n",
            "Epoch 42/100\n",
            "33/33 [==============================] - 0s 3ms/step - loss: 42.3278 - mse: 42.3278 - val_loss: 12.9192 - val_mse: 12.9192\n",
            "Epoch 43/100\n",
            "33/33 [==============================] - 0s 2ms/step - loss: 43.2432 - mse: 43.2432 - val_loss: 17.1722 - val_mse: 17.1722\n",
            "Epoch 44/100\n",
            "33/33 [==============================] - 0s 3ms/step - loss: 43.0227 - mse: 43.0227 - val_loss: 13.3664 - val_mse: 13.3664\n",
            "Epoch 45/100\n",
            "33/33 [==============================] - 0s 3ms/step - loss: 52.4950 - mse: 52.4950 - val_loss: 14.9902 - val_mse: 14.9902\n",
            "Epoch 46/100\n",
            "33/33 [==============================] - 0s 2ms/step - loss: 48.5771 - mse: 48.5771 - val_loss: 19.9123 - val_mse: 19.9123\n",
            "Epoch 47/100\n",
            "33/33 [==============================] - 0s 3ms/step - loss: 40.7985 - mse: 40.7985 - val_loss: 14.1964 - val_mse: 14.1964\n",
            "Epoch 48/100\n",
            "33/33 [==============================] - 0s 3ms/step - loss: 42.0299 - mse: 42.0299 - val_loss: 13.6589 - val_mse: 13.6589\n",
            "Epoch 49/100\n",
            "33/33 [==============================] - 0s 3ms/step - loss: 48.8688 - mse: 48.8688 - val_loss: 13.8226 - val_mse: 13.8226\n",
            "Epoch 50/100\n",
            "33/33 [==============================] - 0s 3ms/step - loss: 46.5121 - mse: 46.5121 - val_loss: 14.2581 - val_mse: 14.2581\n",
            "Epoch 51/100\n",
            "33/33 [==============================] - 0s 3ms/step - loss: 45.4171 - mse: 45.4171 - val_loss: 15.1087 - val_mse: 15.1087\n",
            "Epoch 52/100\n",
            "33/33 [==============================] - 0s 2ms/step - loss: 46.5345 - mse: 46.5345 - val_loss: 13.4815 - val_mse: 13.4815\n",
            "Epoch 53/100\n",
            "33/33 [==============================] - 0s 3ms/step - loss: 44.5654 - mse: 44.5654 - val_loss: 13.6988 - val_mse: 13.6988\n",
            "Epoch 54/100\n",
            "33/33 [==============================] - 0s 3ms/step - loss: 37.1710 - mse: 37.1710 - val_loss: 12.4343 - val_mse: 12.4343\n",
            "Epoch 55/100\n",
            "33/33 [==============================] - 0s 2ms/step - loss: 43.3447 - mse: 43.3447 - val_loss: 13.5380 - val_mse: 13.5380\n",
            "Epoch 56/100\n",
            "33/33 [==============================] - 0s 3ms/step - loss: 44.0562 - mse: 44.0562 - val_loss: 22.0859 - val_mse: 22.0859\n",
            "Epoch 57/100\n",
            "33/33 [==============================] - 0s 3ms/step - loss: 40.4574 - mse: 40.4574 - val_loss: 13.1274 - val_mse: 13.1274\n",
            "Epoch 58/100\n",
            "33/33 [==============================] - 0s 3ms/step - loss: 46.9560 - mse: 46.9560 - val_loss: 12.4359 - val_mse: 12.4359\n",
            "Epoch 59/100\n",
            "33/33 [==============================] - 0s 3ms/step - loss: 49.8747 - mse: 49.8747 - val_loss: 16.2443 - val_mse: 16.2443\n",
            "Epoch 60/100\n",
            "33/33 [==============================] - 0s 3ms/step - loss: 40.0232 - mse: 40.0232 - val_loss: 12.1378 - val_mse: 12.1378\n",
            "Epoch 61/100\n",
            "33/33 [==============================] - 0s 3ms/step - loss: 40.8918 - mse: 40.8918 - val_loss: 12.2469 - val_mse: 12.2469\n",
            "Epoch 62/100\n",
            "33/33 [==============================] - 0s 2ms/step - loss: 44.7102 - mse: 44.7102 - val_loss: 19.5172 - val_mse: 19.5172\n",
            "Epoch 63/100\n",
            "33/33 [==============================] - 0s 3ms/step - loss: 49.3408 - mse: 49.3408 - val_loss: 15.6847 - val_mse: 15.6847\n",
            "Epoch 64/100\n",
            "33/33 [==============================] - 0s 3ms/step - loss: 49.7025 - mse: 49.7025 - val_loss: 11.6948 - val_mse: 11.6948\n",
            "Epoch 65/100\n",
            "33/33 [==============================] - 0s 3ms/step - loss: 42.0408 - mse: 42.0408 - val_loss: 13.3239 - val_mse: 13.3239\n",
            "Epoch 66/100\n",
            "33/33 [==============================] - 0s 2ms/step - loss: 42.8792 - mse: 42.8792 - val_loss: 12.6789 - val_mse: 12.6789\n",
            "Epoch 67/100\n",
            "33/33 [==============================] - 0s 2ms/step - loss: 45.7455 - mse: 45.7455 - val_loss: 14.8241 - val_mse: 14.8241\n",
            "Epoch 68/100\n",
            "33/33 [==============================] - 0s 3ms/step - loss: 48.2416 - mse: 48.2416 - val_loss: 13.2354 - val_mse: 13.2354\n",
            "Epoch 69/100\n",
            "33/33 [==============================] - 0s 3ms/step - loss: 46.0155 - mse: 46.0155 - val_loss: 16.6949 - val_mse: 16.6949\n",
            "Epoch 70/100\n",
            "33/33 [==============================] - 0s 3ms/step - loss: 48.2345 - mse: 48.2345 - val_loss: 16.4611 - val_mse: 16.4611\n",
            "Epoch 71/100\n",
            "33/33 [==============================] - 0s 3ms/step - loss: 44.5824 - mse: 44.5824 - val_loss: 14.0170 - val_mse: 14.0170\n",
            "Epoch 72/100\n",
            "33/33 [==============================] - 0s 3ms/step - loss: 37.9675 - mse: 37.9675 - val_loss: 12.9902 - val_mse: 12.9902\n",
            "Epoch 73/100\n",
            "33/33 [==============================] - 0s 2ms/step - loss: 39.3505 - mse: 39.3505 - val_loss: 15.2439 - val_mse: 15.2439\n",
            "Epoch 74/100\n",
            "33/33 [==============================] - 0s 3ms/step - loss: 50.1023 - mse: 50.1023 - val_loss: 12.3295 - val_mse: 12.3295\n",
            "Epoch 75/100\n",
            "33/33 [==============================] - 0s 2ms/step - loss: 43.3425 - mse: 43.3425 - val_loss: 12.8843 - val_mse: 12.8843\n",
            "Epoch 76/100\n",
            "33/33 [==============================] - 0s 3ms/step - loss: 34.3287 - mse: 34.3287 - val_loss: 11.7646 - val_mse: 11.7646\n",
            "Epoch 77/100\n",
            "33/33 [==============================] - 0s 2ms/step - loss: 44.0268 - mse: 44.0268 - val_loss: 13.9251 - val_mse: 13.9251\n",
            "Epoch 78/100\n",
            "33/33 [==============================] - 0s 3ms/step - loss: 40.1259 - mse: 40.1259 - val_loss: 13.2164 - val_mse: 13.2164\n",
            "Epoch 79/100\n",
            "33/33 [==============================] - 0s 3ms/step - loss: 34.4241 - mse: 34.4241 - val_loss: 13.5180 - val_mse: 13.5180\n",
            "Epoch 80/100\n",
            "33/33 [==============================] - 0s 3ms/step - loss: 44.1874 - mse: 44.1874 - val_loss: 15.3765 - val_mse: 15.3765\n",
            "Epoch 81/100\n",
            "33/33 [==============================] - 0s 3ms/step - loss: 40.6024 - mse: 40.6024 - val_loss: 12.5783 - val_mse: 12.5783\n",
            "Epoch 82/100\n",
            "33/33 [==============================] - 0s 3ms/step - loss: 46.7919 - mse: 46.7919 - val_loss: 15.0047 - val_mse: 15.0047\n",
            "Epoch 83/100\n",
            "33/33 [==============================] - 0s 3ms/step - loss: 47.9661 - mse: 47.9661 - val_loss: 11.7187 - val_mse: 11.7187\n",
            "Epoch 84/100\n",
            "33/33 [==============================] - 0s 3ms/step - loss: 37.6663 - mse: 37.6663 - val_loss: 15.7355 - val_mse: 15.7355\n",
            "Epoch 85/100\n",
            "33/33 [==============================] - 0s 3ms/step - loss: 39.7668 - mse: 39.7668 - val_loss: 13.4683 - val_mse: 13.4683\n",
            "Epoch 86/100\n",
            "33/33 [==============================] - 0s 2ms/step - loss: 41.8652 - mse: 41.8652 - val_loss: 12.2263 - val_mse: 12.2263\n",
            "Epoch 87/100\n",
            "33/33 [==============================] - 0s 2ms/step - loss: 46.4856 - mse: 46.4856 - val_loss: 14.9074 - val_mse: 14.9074\n",
            "Epoch 88/100\n",
            "33/33 [==============================] - 0s 3ms/step - loss: 39.9175 - mse: 39.9175 - val_loss: 10.5806 - val_mse: 10.5806\n",
            "Epoch 89/100\n",
            "33/33 [==============================] - 0s 3ms/step - loss: 41.2520 - mse: 41.2520 - val_loss: 12.7404 - val_mse: 12.7404\n",
            "Epoch 90/100\n",
            "33/33 [==============================] - 0s 2ms/step - loss: 42.8477 - mse: 42.8477 - val_loss: 11.9498 - val_mse: 11.9498\n",
            "Epoch 91/100\n",
            "33/33 [==============================] - 0s 3ms/step - loss: 42.7775 - mse: 42.7775 - val_loss: 12.7558 - val_mse: 12.7558\n",
            "Epoch 92/100\n",
            "33/33 [==============================] - 0s 2ms/step - loss: 44.5884 - mse: 44.5884 - val_loss: 15.1368 - val_mse: 15.1368\n",
            "Epoch 93/100\n",
            "33/33 [==============================] - 0s 3ms/step - loss: 46.5708 - mse: 46.5708 - val_loss: 12.6481 - val_mse: 12.6481\n",
            "Epoch 94/100\n",
            "33/33 [==============================] - 0s 2ms/step - loss: 40.8701 - mse: 40.8701 - val_loss: 15.4923 - val_mse: 15.4923\n",
            "Epoch 95/100\n",
            "33/33 [==============================] - 0s 3ms/step - loss: 35.3922 - mse: 35.3922 - val_loss: 12.0563 - val_mse: 12.0563\n",
            "Epoch 96/100\n",
            "33/33 [==============================] - 0s 3ms/step - loss: 38.6735 - mse: 38.6735 - val_loss: 11.9485 - val_mse: 11.9485\n",
            "Epoch 97/100\n",
            "33/33 [==============================] - 0s 3ms/step - loss: 40.0027 - mse: 40.0027 - val_loss: 11.6161 - val_mse: 11.6161\n",
            "Epoch 98/100\n",
            "33/33 [==============================] - 0s 3ms/step - loss: 46.3271 - mse: 46.3271 - val_loss: 12.4158 - val_mse: 12.4158\n",
            "Epoch 99/100\n",
            "33/33 [==============================] - 0s 3ms/step - loss: 40.3969 - mse: 40.3969 - val_loss: 13.6317 - val_mse: 13.6317\n",
            "Epoch 100/100\n",
            "33/33 [==============================] - 0s 2ms/step - loss: 36.4485 - mse: 36.4485 - val_loss: 14.1772 - val_mse: 14.1772\n"
          ],
          "name": "stdout"
        }
      ]
    },
    {
      "cell_type": "code",
      "metadata": {
        "id": "Q1Xpf_9DE5Ut",
        "colab_type": "code",
        "outputId": "e1680449-f671-4b9a-e337-dec578d817f2",
        "colab": {
          "base_uri": "https://localhost:8080/",
          "height": 573
        }
      },
      "source": [
        "plt.plot(history.history['mse'], label='Training mse')\n",
        "plt.plot(history.history['val_mse'], label='Validation mse')\n",
        "plt.title('Validation mse')\n",
        "plt.ylabel('MSE')\n",
        "plt.xlabel('Epoch')\n",
        "plt.legend(loc=\"upper left\")\n",
        "plt.show()\n",
        "\n",
        "plt.plot(history.history['loss'], label='Training loss')\n",
        "plt.plot(history.history['val_loss'], label='Validation loss')\n",
        "plt.title('validation loss values')\n",
        "plt.ylabel('Loss value')\n",
        "plt.xlabel('Epoch')\n",
        "plt.legend(loc=\"upper left\")\n",
        "plt.show()"
      ],
      "execution_count": 11,
      "outputs": [
        {
          "output_type": "display_data",
          "data": {
            "image/png": "[encoded data removed]",
            "text/plain": [
              "<Figure size 432x288 with 1 Axes>"
            ]
          },
          "metadata": {
            "tags": [],
            "needs_background": "light"
          }
        },
        {
          "output_type": "display_data",
          "data": {
            "image/png": "[encoded data removed]",
            "text/plain": [
              "<Figure size 432x288 with 1 Axes>"
            ]
          },
          "metadata": {
            "tags": [],
            "needs_background": "light"
          }
        }
      ]
    },
    {
      "cell_type": "code",
      "metadata": {
        "id": "J2codDKhFYSR",
        "colab_type": "code",
        "outputId": "f131b563-5b15-48d5-e99a-a3fc17664c6e",
        "colab": {
          "base_uri": "https://localhost:8080/",
          "height": 1000
        }
      },
      "source": [
        "y_pred=model.predict(x_test)\n",
        "y_pred"
      ],
      "execution_count": 12,
      "outputs": [
        {
          "output_type": "execute_result",
          "data": {
            "text/plain": [
              "array([[28.239702],\n",
              "       [21.415176],\n",
              "       [22.258018],\n",
              "       [17.156988],\n",
              "       [ 8.502396],\n",
              "       [22.308928],\n",
              "       [16.738508],\n",
              "       [26.349216],\n",
              "       [47.05175 ],\n",
              "       [23.232903],\n",
              "       [12.215532],\n",
              "       [21.54383 ],\n",
              "       [21.318274],\n",
              "       [15.182053],\n",
              "       [22.891815],\n",
              "       [25.546288],\n",
              "       [18.753052],\n",
              "       [10.010724],\n",
              "       [ 9.50205 ],\n",
              "       [11.46039 ],\n",
              "       [33.01915 ],\n",
              "       [22.415005],\n",
              "       [16.112831],\n",
              "       [19.42809 ],\n",
              "       [10.118252],\n",
              "       [18.430851],\n",
              "       [16.839169],\n",
              "       [28.905228],\n",
              "       [15.425276],\n",
              "       [16.613554],\n",
              "       [18.8761  ],\n",
              "       [23.861042],\n",
              "       [18.645506],\n",
              "       [27.985115],\n",
              "       [17.378502],\n",
              "       [36.120316],\n",
              "       [31.40773 ],\n",
              "       [ 9.351271],\n",
              "       [42.502556],\n",
              "       [32.775326],\n",
              "       [31.408716],\n",
              "       [15.488742],\n",
              "       [49.74897 ],\n",
              "       [19.137794],\n",
              "       [34.43577 ],\n",
              "       [15.268023],\n",
              "       [24.843182],\n",
              "       [18.04866 ],\n",
              "       [17.353655],\n",
              "       [19.234116],\n",
              "       [15.567289],\n",
              "       [23.378181],\n",
              "       [15.958979],\n",
              "       [16.120148],\n",
              "       [20.20804 ],\n",
              "       [18.283527],\n",
              "       [29.307247],\n",
              "       [25.742416],\n",
              "       [39.67813 ],\n",
              "       [16.946661],\n",
              "       [19.234177],\n",
              "       [33.128292],\n",
              "       [33.618538],\n",
              "       [17.36669 ],\n",
              "       [22.13625 ],\n",
              "       [19.047237],\n",
              "       [18.68835 ],\n",
              "       [43.987663],\n",
              "       [27.392328],\n",
              "       [19.627403],\n",
              "       [18.812492],\n",
              "       [10.820671],\n",
              "       [31.70611 ],\n",
              "       [12.13065 ],\n",
              "       [20.879528],\n",
              "       [13.303692],\n",
              "       [22.867619],\n",
              "       [12.59574 ],\n",
              "       [22.853683],\n",
              "       [13.976163],\n",
              "       [24.827326],\n",
              "       [16.535679],\n",
              "       [25.540462],\n",
              "       [17.25423 ],\n",
              "       [10.744514],\n",
              "       [26.68327 ],\n",
              "       [12.704445],\n",
              "       [22.359339],\n",
              "       [17.286777],\n",
              "       [25.712439],\n",
              "       [14.475699],\n",
              "       [26.398914],\n",
              "       [20.47696 ],\n",
              "       [21.25252 ],\n",
              "       [23.658743],\n",
              "       [12.494017],\n",
              "       [21.333725],\n",
              "       [10.605484],\n",
              "       [11.830095],\n",
              "       [37.791435],\n",
              "       [13.386482],\n",
              "       [18.199156]], dtype=float32)"
            ]
          },
          "metadata": {
            "tags": []
          },
          "execution_count": 12
        }
      ]
    },
    {
      "cell_type": "code",
      "metadata": {
        "id": "4lumkjt0FqEj",
        "colab_type": "code",
        "outputId": "7d37a0a2-5316-4fbe-912f-a3f7ced31f3a",
        "colab": {
          "base_uri": "https://localhost:8080/",
          "height": 51
        }
      },
      "source": [
        "score_eval=model.evaluate(x_test,y_test)\n",
        "score_eval"
      ],
      "execution_count": 13,
      "outputs": [
        {
          "output_type": "stream",
          "text": [
            "4/4 [==============================] - 0s 2ms/step - loss: 20.6023 - mse: 20.6023\n"
          ],
          "name": "stdout"
        },
        {
          "output_type": "execute_result",
          "data": {
            "text/plain": [
              "[20.60225486755371, 20.60225486755371]"
            ]
          },
          "metadata": {
            "tags": []
          },
          "execution_count": 13
        }
      ]
    },
    {
      "cell_type": "code",
      "metadata": {
        "id": "NyZeJNiKFziF",
        "colab_type": "code",
        "colab": {}
      },
      "source": [
        ""
      ],
      "execution_count": 0,
      "outputs": []
    }
  ]
}